{
  "nbformat": 4,
  "nbformat_minor": 0,
  "metadata": {
    "colab": {
      "name": "TP 1 - Naive Bayes.ipynb",
      "provenance": []
    },
    "kernelspec": {
      "name": "python3",
      "display_name": "Python 3.9.2 64-bit",
      "metadata": {
        "interpreter": {
          "hash": "35d319f83ab08ecd497627408ea36f4ad0a0ef0ec31f33b5bf93fec9ccad80dc"
        }
      }
    }
  },
  "cells": [
    {
      "cell_type": "markdown",
      "metadata": {
        "id": "oKq-PKdSk9L_"
      },
      "source": [
        "# TP 1 - Naive Bayes\n",
        "\n",
        "El siguiente trabajo práctico consta de dos ejercicios relacionados con el primer modulo visto en clase.\n",
        "\n",
        "Fecha de entrega: Domingo 4 de abril 23:59 hs\n",
        "\n",
        "Fecha de defensa: Lunes 5 de abril en horario de clase\n",
        "\n",
        "# **Para ambos ejercicios desarrollar el código propio del clasificador**\n",
        "\n",
        "Se pueden utilizar librerias para la etapa de limpieza de los datos. Para el clasificador propiamente dicho, tiene que ser implementado completamente. Pueden basarse en notebooks vistas en clase u otros materiales, pero es requisito que entiendan cómo funciona el código que utilicen.\n",
        "\n",
        "Por último, se recomienda validar el funcionamiento de los mismos utilizando algún clasificador de una librería como Sklear"
      ]
    },
    {
      "cell_type": "markdown",
      "metadata": {
        "id": "Dn-8_3FAlZnC"
      },
      "source": [
        "##Ejercicio 1\n",
        "\n",
        "Realizar un clasificador de noticias utilizando el conjunto de datos de fetch_20newsgroups de Sklearn. A continuación, encontrarán el código para poder obtener el dataset.\n",
        "\n",
        "\n",
        "Recordar elegir una métrica para medir el desempeño del modelo y validar los resultados. \n",
        "\n",
        "Explicar paso a paso que es lo que se va desarrollando.\n",
        "\n",
        "**Incluir una explicación sobre Laplacian smoothing y para qué se utiliza** (evaluar su aplicación en la resolución de la consigna)"
      ]
    },
    {
      "cell_type": "code",
      "metadata": {
        "colab": {
          "base_uri": "https://localhost:8080/"
        },
        "id": "M2rI3eqbk5T2",
        "outputId": "ac39ce7a-a3bd-4598-f441-1c57a76d695e",
        "tags": []
      },
      "source": [
        "#Cargando dataset - training data\n",
        "from sklearn.datasets import fetch_20newsgroups\n",
        "twenty_train = fetch_20newsgroups(subset='train', shuffle=True)\n"
      ],
      "execution_count": 14,
      "outputs": []
    },
    {
      "cell_type": "code",
      "execution_count": 16,
      "metadata": {},
      "outputs": [
        {
          "output_type": "stream",
          "name": "stdout",
          "text": [
            "From: dfo@vttoulu.tko.vtt.fi (Foxvog Douglas)\nSubject: Re: Rewording the Second Amendment (ideas)\nOrganization: VTT\nLines: 58\n\nIn article <1r1eu1$4t@transfer.stratus.com> cdt@sw.stratus.com (C. D. Tavares) writes:\n>In article <1993Apr20.083057.16899@ousrvr.oulu.fi>, dfo@vttoulu.tko.vtt.fi (Foxvog Douglas) writes:\n>> In article <1qv87v$4j3@transfer.stratus.com> cdt@sw.stratus.com (C. D. Tavares) writes:\n>> >In article <C5n3GI.F8F@ulowell.ulowell.edu>, jrutledg@cs.ulowell.edu (John Lawrence Rutledge) writes:\n>\n>> >> The massive destructive power of many modern weapons, makes the\n>> >> cost of an accidental or crimial usage of these weapons to great.\n>> >> The weapons of mass destruction need to be in the control of\n>> >> the government only.  Individual access would result in the\n>> >> needless deaths of millions.  This makes the right of the people\n>> >> to keep and bear many modern weapons non-existant.\n\n>> >Thanks for stating where you're coming from.  Needless to say, I\n>> >disagree on every count.\n\n>> You believe that individuals should have the right to own weapons of\n>> mass destruction?  I find it hard to believe that you would support a \n>> neighbor's right to keep nuclear weapons, biological weapons, and nerve\n>> gas on his/her property.  \n\n>> If we cannot even agree on keeping weapons of mass destruction out of\n>> the hands of individuals, can there be any hope for us?\n\n>I don't sign any blank checks.\n\nOf course.  The term must be rigidly defined in any bill.\n\n>When Doug Foxvog says \"weapons of mass destruction,\" he means CBW and\n>nukes.  When Sarah Brady says \"weapons of mass destruction\" she means\n>Street Sweeper shotguns and semi-automatic SKS rifles.  \n\nI doubt she uses this term for that.  You are using a quote allegedly\nfrom her, can you back it up?\n\n>When John\n>Lawrence Rutledge says \"weapons of mass destruction,\" and then immediately\n>follows it with:\n\n>>> The US has thousands of people killed each year by handguns,\n>>> this number can easily be reduced by putting reasonable restrictions\n>>> on them.\n\n>...what does Rutledge mean by the term?\n\nI read the article as presenting first an argument about weapons of mass\ndestruction (as commonly understood) and then switching to other topics.\nThe first point evidently was to show that not all weapons should be\nallowed, and then the later analysis was, given this understanding, to\nconsider another class.\n\n>cdt@rocket.sw.stratus.com   --If you believe that I speak for my company,\n>OR cdt@vos.stratus.com        write today for my special Investors' Packet...\n\n\n\n-- \ndoug foxvog\ndouglas.foxvog@vtt.fi\n\n"
          ]
        }
      ],
      "source": [
        "print(twenty_train.data[5])"
      ]
    },
    {
      "cell_type": "markdown",
      "metadata": {
        "id": "ZSqNMGWPpbd8"
      },
      "source": [
        "##Ejercicio 2\n",
        "\n",
        "A partir del Pima Indians Diabetes Dataset predecir la aparición de diabetes basado en diferentes valores diagnósticos.\n",
        "\n",
        "Este conjunto de datos es del  National Institute of Diabetes and Digestive and Kidney Diseases originalmente. \n",
        "\n",
        "Posee ciertas limitaciones para la selección de los pacientes a partir de una base de datos más grande. En particular, son todos pacientes femeninos de al menos 21 años de edad de herencia Pima Indian.\n",
        "\n",
        "Las variables:\n",
        "\n",
        "\n",
        "*   Pregnancies (embarazos): Número de embarazos\n",
        "*   Glucose: Concentración de glucosa en sangre a 2 horas de una prueba de tolerancia de glucosa oral.\n",
        "*   BloodPresure (Presión sanguinea): Presión diastólica (mm Hg)\n",
        "*   SkinThickness: Tamaño del pliege de la piel del triceps\n",
        "*   Insulin: Insulina en sangre a 2 horas (mu U/ml)\n",
        "*   BMI: Indice de masa corporal (peso en kg / (altura en metros)^2)\n",
        "*   DiabetesPedigreeFunction: Una función que estima el likelihood de tener diabetes dado el historial familiar\n",
        "*   Age: Edad (años)\n",
        "*   Outcome: Variable 0 o 1 (0 no posee diabtes, 1 posee diabetes)\n",
        "\n",
        "Este ejercicio consta de dos partes:\n",
        "\n",
        "\n",
        "\n",
        "1.   Realizar un EDA completo de este dataset incluyendo: cantidad de valores nulos de las variables, número de personas para cada clase, análisis de distribuciones de las variables (por ejemplo se pueden usar histogramas), análisis de outliers y correlación entre variables. Recordar explicar las diferentes decisiones que se vayan tomando respecto de la limpieza y calidad de los datos\n",
        "2.   Generar un clasificador utilizando las variables que se consideren óptimas. Recordar elegir una métrica para medir el desempeño del modelo y validar los resultados. \n",
        "\n",
        "\n"
      ]
    }
  ]
}