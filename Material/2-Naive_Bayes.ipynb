{
 "cells": [
  {
   "cell_type": "code",
   "execution_count": 1,
   "metadata": {
    "collapsed": true
   },
   "outputs": [],
   "source": [
    "# Estos dos comandos evitan que haya que hacer reload cada vez que se modifica un paquete\n",
    "%load_ext autoreload\n",
    "%autoreload 2"
   ]
  },
  {
   "cell_type": "code",
   "execution_count": 2,
   "metadata": {
    "collapsed": true
   },
   "outputs": [],
   "source": [
    "import numpy as np\n",
    "from matplotlib import pyplot as plt\n",
    "from problema_1 import plot_bar_chart\n",
    "# Importo el paquete para graficar\n",
    "from matplotlib import pyplot as plt"
   ]
  },
  {
   "cell_type": "markdown",
   "metadata": {},
   "source": [
    "# Naive bayes - Clasificación\n",
    "\n",
    "### Bibliografía recomendada\n",
    "https://nlp.stanford.edu/IR-book/ - Capitulo 13 -  \n",
    "http://scikit-learn.org/stable/modules/naive_bayes.html#naive-bayes"
   ]
  },
  {
   "cell_type": "markdown",
   "metadata": {},
   "source": [
    "## Ejemplos"
   ]
  },
  {
   "cell_type": "markdown",
   "metadata": {},
   "source": [
    "![](./images/student-admission.png)"
   ]
  },
  {
   "cell_type": "markdown",
   "metadata": {},
   "source": [
    "![](./images/chip-test.png)"
   ]
  },
  {
   "cell_type": "markdown",
   "metadata": {},
   "source": [
    "## Introducción teórica"
   ]
  },
  {
   "cell_type": "markdown",
   "metadata": {},
   "source": [
    "### Teorema de Bayes\n",
    "$P(y|x_1,x_2,...,x_n) = \\large \\frac{P(x_1, x_2,...,x_n|y) P(y)}{P(x_1,x_2,...,x_n)}$"
   ]
  },
  {
   "cell_type": "markdown",
   "metadata": {},
   "source": [
    "El numerador:\n",
    "\n",
    "$ \\large P(x_1, x_2,...,x_n|y) P(y) = P(y, x_1, x_2,...,x_n)$"
   ]
  },
  {
   "cell_type": "markdown",
   "metadata": {},
   "source": [
    "Por la regla de la cadena:\n",
    "\n",
    "$P(x_1,x_2, x_3, y) = P(x_1 | x_2, x_3,y)P(x_2,x_3, y) = P(x_1 | x_2, x_3,y)P(x_2|x_3, y)P(x_3, y) = P(x_1 | x_2, x_3,y)P(x_2|x_3, y)P(x_3| y)P(y)$"
   ]
  },
  {
   "cell_type": "markdown",
   "metadata": {},
   "source": [
    "$P(x_1,x_2, x_3, y) = P(x_1 | x_2, x_3,y)P(x_2|x_3, y)P(x_3| y)P(y)$"
   ]
  },
  {
   "cell_type": "markdown",
   "metadata": {},
   "source": [
    "#### Ejemplo con Aplicación SPAM"
   ]
  },
  {
   "cell_type": "markdown",
   "metadata": {},
   "source": [
    "$P(comprar,oferta,ganaste,SPAM) = P(comprar | oferta, ganaste,SPAM)P(oferta|ganaste, SPAM)P(ganaste| SPAM)P(SPAM)$"
   ]
  },
  {
   "cell_type": "markdown",
   "metadata": {},
   "source": [
    "Asumiendo independencia\n",
    "\n",
    "$P(x_i|y) = P(x_i|y,x_1,...)$\n",
    "\n",
    "$P(comprar,oferta,ganaste,SPAM) = P(comprar | SPAM)P(oferta|SPAM)P(ganaste| SPAM)P(SPAM)$"
   ]
  },
  {
   "cell_type": "markdown",
   "metadata": {},
   "source": [
    "### Naive Bayes\n",
    "\n",
    "$P(y|x_1,x_2,...,x_n) = \\large \\frac{P(y)\\prod P(x_i/y)} {P(x_1,x_2,...,x_n)} = \\alpha {P(y)\\prod P(x_i/y)}$\n",
    "\n",
    "(Compararlo con teorema de Bayes)"
   ]
  },
  {
   "cell_type": "markdown",
   "metadata": {},
   "source": [
    "$\\large \\hat{y} = arg max_y [{P(y)\\prod P(x_i/y)}]$"
   ]
  },
  {
   "cell_type": "markdown",
   "metadata": {},
   "source": [
    "Ejemplo SPAM: \n",
    "\n",
    "La variable aleatoria $y$ puede ser: [SPAM, NO_SPAM]. Calculo ${P(y)\\prod P(x_i/y)}$ para ambos casos y me quedo con el mayor\n",
    "\n",
    "Como el denominador es el mismo para ambos casos, no hace falta calcularlo"
   ]
  },
  {
   "cell_type": "markdown",
   "metadata": {},
   "source": [
    "## Detección de SPAM\n",
    "V. Metsis, I. Androutsopoulos and G. Paliouras (2006). Spam filtering with Naive Bayes – Which Naive Bayes? 3rd Conf. on Email and Anti-Spam (CEAS).\n",
    "http://citeseerx.ist.psu.edu/viewdoc/download;jsessionid=1EEA3C5EE5DDF8409BCC0F09BFB7D98B?doi=10.1.1.61.5542&rep=rep1&type=pdf\n",
    "\n",
    "Tenemos un dataset donde ya esta preprocesado el texto\n",
    "- Lemmatization, stemming\n",
    "- Stop words"
   ]
  },
  {
   "cell_type": "code",
   "execution_count": 3,
   "metadata": {
    "collapsed": true
   },
   "outputs": [],
   "source": [
    "from sklearn.feature_extraction.text import CountVectorizer"
   ]
  },
  {
   "cell_type": "code",
   "execution_count": 4,
   "metadata": {},
   "outputs": [],
   "source": [
    "import os\n",
    "from collections import Counter\n",
    "train_dir = './ling-spam/train-mails'\n",
    "emails = [os.path.join(train_dir,f) for f in os.listdir(train_dir)] "
   ]
  },
  {
   "cell_type": "code",
   "execution_count": 5,
   "metadata": {},
   "outputs": [
    {
     "data": {
      "text/plain": [
       "['./ling-spam/train-mails/6-338msg1.txt',\n",
       " './ling-spam/train-mails/5-1300msg3.txt',\n",
       " './ling-spam/train-mails/6-250msg1.txt',\n",
       " './ling-spam/train-mails/6-266msg3.txt',\n",
       " './ling-spam/train-mails/spmsgc10.txt',\n",
       " './ling-spam/train-mails/5-1326msg1.txt',\n",
       " './ling-spam/train-mails/spmsga114.txt',\n",
       " './ling-spam/train-mails/spmsga100.txt',\n",
       " './ling-spam/train-mails/6-110msg3.txt',\n",
       " './ling-spam/train-mails/6-126msg1.txt']"
      ]
     },
     "execution_count": 5,
     "metadata": {},
     "output_type": "execute_result"
    }
   ],
   "source": [
    "emails[0:10]"
   ]
  },
  {
   "cell_type": "code",
   "execution_count": 6,
   "metadata": {},
   "outputs": [
    {
     "name": "stdout",
     "output_type": "stream",
     "text": [
      "<_io.TextIOWrapper name='./ling-spam/train-mails/5-1326msg1.txt' mode='r' encoding='UTF-8'>\n",
      "0 Subject: \n",
      "\n",
      "1 \n",
      "\n",
      "2 n n o u n c n g cunyforum 18 , summer 1994 journal work paper linguistic , cuny graduate center c o n t e n t s development dominican vernacular spanish - - keat green pragmatic verbal abuse - - edgar . gregersen parse japanese relative clause : raise lower ? - - yukus hirose interpretation case - delet sentence japanese - - mana kobuchus - philip is innate functional category ? - - ingeborg lasser language contact sao tome principe ( west africa ) - - gerardo . lorenzino comparative morphosyntactic study restructure portuguese africa brazil - - heliana r . mello artificial cognition language - - john . moyne * * * subscription rate : regular $ 10 ; student $ 5 ; institution $ 20 ; oversea add $ 10 . send check : cunyforum ; linguistic department ; cuny graduate center ; 33 west 42nd street ; york , ny 10036 . inquiry emfgc @ cunyvm . cuny . edu .\n",
      "\n"
     ]
    }
   ],
   "source": [
    "with open(emails[5]) as m:\n",
    "    print(m)\n",
    "    for i,line in enumerate(m):\n",
    "        print(i, line)"
   ]
  },
  {
   "cell_type": "code",
   "execution_count": 7,
   "metadata": {
    "collapsed": true
   },
   "outputs": [],
   "source": [
    "def make_Dictionary(train_dir):\n",
    "    # Train dir es la carpeta para parsear\n",
    "    emails_array = []\n",
    "    labels = []\n",
    "    # Emails es una lista con los nombres de los archivos\n",
    "    emails = [os.path.join(train_dir,f) for f in os.listdir(train_dir)] \n",
    "    # All words contendrá todas las palabras del mail\n",
    "    all_words = []       \n",
    "    for mail in emails:\n",
    "        # mail es el nombre del archivo\n",
    "        with open(mail) as m:\n",
    "            # m es el archivo abierto\n",
    "            if 'spmsg' in mail.split('/')[-1]:\n",
    "                # Si el nombre del archivo contiene 'spmsg' es spam\n",
    "                labels.append(True)\n",
    "            else:\n",
    "                labels.append(False)\n",
    "            # email_str va a guardar el mail como string\n",
    "            email_str = ''\n",
    "            for i,line in enumerate(m):\n",
    "                if i == 2:  #Body of email is only 3rd line of text file\n",
    "                    words = line.split()\n",
    "                    all_words += words\n",
    "                    email_str = email_str + ' ' + line\n",
    "            emails_array.append(email_str)\n",
    "    dictionary = Counter(all_words)\n",
    "    return dictionary, emails_array, labels\n",
    "\n",
    "def remove_uncommon_words(dictionary):\n",
    "    # Dictionary es un counter\n",
    "    dict_copy = { k : v for k,v in dictionary.items()}\n",
    "    list_to_remove = dictionary.keys()\n",
    "    for item in list_to_remove:\n",
    "        if item.isalpha() == False: \n",
    "            # Remueve lo que no sean palabras con letras del abcedario\n",
    "            del dict_copy[item]\n",
    "        elif len(item) == 1:\n",
    "            # Remueve las palabras de una letra\n",
    "            del dict_copy[item]\n",
    "    return Counter(dict_copy)"
   ]
  },
  {
   "cell_type": "code",
   "execution_count": 8,
   "metadata": {
    "collapsed": true
   },
   "outputs": [],
   "source": [
    "def read_emails_and_get_dict(folder, max_features=3000):\n",
    "    dictionary, emails_array, labels = make_Dictionary(folder)\n",
    "    dictionary = remove_uncommon_words(dictionary)\n",
    "    dictionary = dictionary.most_common(max_features)\n",
    "    vocabulary = [key[0] for key in dictionary]\n",
    "    return vocabulary, emails_array, np.array(labels)"
   ]
  },
  {
   "cell_type": "code",
   "execution_count": 9,
   "metadata": {
    "collapsed": true
   },
   "outputs": [],
   "source": [
    "max_features = 3000"
   ]
  },
  {
   "cell_type": "code",
   "execution_count": 10,
   "metadata": {},
   "outputs": [],
   "source": [
    "vocabulary, emails_array, labels = read_emails_and_get_dict('./ling-spam/train-mails', max_features)\n",
    "count_vectorizer = CountVectorizer(vocabulary=vocabulary)\n",
    "feature_matrix = count_vectorizer.fit_transform(emails_array)"
   ]
  },
  {
   "cell_type": "code",
   "execution_count": 11,
   "metadata": {},
   "outputs": [
    {
     "name": "stdout",
     "output_type": "stream",
     "text": [
      "[False False False False  True False  True  True False False]\n",
      "['order', 'address', 'report', 'mail', 'send', 'language', 'email', 'program', 'our', 'list']\n",
      "  (0, 19)\t1\n",
      "  (0, 24)\t2\n",
      "  (0, 273)\t1\n",
      "  (0, 305)\t1\n",
      "  (0, 533)\t1\n",
      "  (0, 562)\t1\n",
      "  (0, 701)\t1\n",
      "  (0, 717)\t1\n",
      "  (0, 1285)\t1\n",
      "  (0, 1418)\t1\n",
      "  (0, 1650)\t2\n",
      "  (1, 1)\t2\n",
      "  (1, 4)\t3\n",
      "  (1, 5)\t3\n",
      "  (1, 6)\t2\n",
      "  (1, 11)\t1\n",
      "  (1, 12)\t2\n",
      "  (1, 16)\t1\n",
      "  (1, 18)\t3\n",
      "  (1, 19)\t3\n",
      "  (1, 22)\t1\n",
      "  (1, 27)\t2\n",
      "  (1, 29)\t3\n",
      "  (1, 31)\t3\n",
      "  (1, 32)\t1\n",
      "  :\t:\n",
      "  (701, 748)\t1\n",
      "  (701, 800)\t1\n",
      "  (701, 865)\t1\n",
      "  (701, 873)\t1\n",
      "  (701, 913)\t1\n",
      "  (701, 919)\t1\n",
      "  (701, 952)\t1\n",
      "  (701, 1017)\t1\n",
      "  (701, 1150)\t1\n",
      "  (701, 1232)\t1\n",
      "  (701, 1263)\t1\n",
      "  (701, 1355)\t1\n",
      "  (701, 1485)\t1\n",
      "  (701, 1486)\t1\n",
      "  (701, 1603)\t1\n",
      "  (701, 1637)\t1\n",
      "  (701, 1816)\t1\n",
      "  (701, 1825)\t1\n",
      "  (701, 1903)\t1\n",
      "  (701, 2362)\t1\n",
      "  (701, 2402)\t1\n",
      "  (701, 2495)\t1\n",
      "  (701, 2672)\t2\n",
      "  (701, 2777)\t1\n",
      "  (701, 2986)\t1\n"
     ]
    }
   ],
   "source": [
    "print(labels[0:10])\n",
    "print(vocabulary[0:10])\n",
    "print(feature_matrix)"
   ]
  },
  {
   "cell_type": "code",
   "execution_count": 12,
   "metadata": {},
   "outputs": [
    {
     "name": "stdout",
     "output_type": "stream",
     "text": [
      "(1, 3000)\n",
      "[[1423 1302 1216 ...,    8    8    8]]\n",
      "[[1424 1303 1217 ...,    9    9    9]]\n",
      "157987\n"
     ]
    }
   ],
   "source": [
    "print(feature_matrix.sum(axis=0).shape)\n",
    "print(feature_matrix.sum(axis=0))\n",
    "print(feature_matrix.sum(axis=0) + 1)\n",
    "print((feature_matrix.sum(axis=0) + 1).sum())"
   ]
  },
  {
   "cell_type": "code",
   "execution_count": 13,
   "metadata": {},
   "outputs": [
    {
     "name": "stdout",
     "output_type": "stream",
     "text": [
      "SPAM: 351 HAM: 351 total: 702\n",
      "\n",
      "Palabras diferentes\n",
      "SPAM: 49290 HAM: 33347\n",
      "\n",
      "Cantidad de palabras\n",
      "SPAM: 98144 HAM: 56843\n"
     ]
    }
   ],
   "source": [
    "def get_histogram_from_matrix(alpha, feature_matrix):\n",
    "    # Alpha es para suavizar y evitar la probabilidad cero. Normalmente 1\n",
    "    # Es como agregar un mail con todas las palabras\n",
    "    words_distribution_un = feature_matrix.sum(axis=0) + alpha\n",
    "    words_distribution = words_distribution_un/(words_distribution_un.sum()) # + alpha*feature_matrix.shape[1])\n",
    "    return words_distribution\n",
    "\n",
    "spam_feature_matrix = feature_matrix[labels,:]\n",
    "ham_feature_matrix = feature_matrix[np.logical_not(labels),:]\n",
    "\n",
    "print('SPAM:',labels.nonzero()[0].shape[0],\n",
    "      'HAM:',np.logical_not(labels).nonzero()[0].shape[0],\n",
    "      'total:',len(labels))\n",
    "\n",
    "print()\n",
    "print('Palabras diferentes')\n",
    "print('SPAM:', spam_feature_matrix.nonzero()[0].shape[0],\n",
    "      'HAM:',ham_feature_matrix.nonzero()[0].shape[0])\n",
    "\n",
    "print()\n",
    "print('Cantidad de palabras')\n",
    "print('SPAM:',spam_feature_matrix.sum(), 'HAM:',ham_feature_matrix.sum())\n",
    "\n",
    "\n",
    "# P(x_i/SPAM)\n",
    "spam_words_distribution = get_histogram_from_matrix(1, spam_feature_matrix)\n",
    "# P(x_i/HAM)\n",
    "ham_words_distribution = get_histogram_from_matrix(1, ham_feature_matrix)"
   ]
  },
  {
   "cell_type": "markdown",
   "metadata": {},
   "source": [
    "$\\hat{y} = arg max_y [{P(y)\\prod P(x_i/y)}]$\n",
    "\n",
    "$y = [SPAM, HAM]$"
   ]
  },
  {
   "cell_type": "code",
   "execution_count": 14,
   "metadata": {},
   "outputs": [],
   "source": [
    "def plot_bar_chart(P, vocabulary = None, title='title'):\n",
    "    N = len(P)\n",
    "    plt.figure(figsize=(20, 5)) # Tamaño del gráfico\n",
    "    indexes = list(range(1, len(P) + 1))\n",
    "    plt.bar(indexes, P, width=0.75, color='b') # Grafico\n",
    "    plt.title(title)\n",
    "\n",
    "    # Definición de indices\n",
    "    if not vocabulary:\n",
    "        string_indexes = [str(i) for i in indexes]\n",
    "    else:\n",
    "        string_indexes = [vocabulary[i-1] for i in indexes]\n",
    "    plt.xlim([0,N+1])\n",
    "    plt.xticks(indexes, string_indexes) \n",
    "    plt.xticks(rotation=60)\n",
    "    plt.show()"
   ]
  },
  {
   "cell_type": "code",
   "execution_count": 15,
   "metadata": {},
   "outputs": [
    {
     "data": {
      "image/png": "[encoded data removed]",
      "text/plain": [
       "<matplotlib.figure.Figure at 0x10f52c8d0>"
      ]
     },
     "metadata": {},
     "output_type": "display_data"
    },
    {
     "data": {
      "image/png": "[encoded data removed]",
      "text/plain": [
       "<matplotlib.figure.Figure at 0x10f5302b0>"
      ]
     },
     "metadata": {},
     "output_type": "display_data"
    }
   ],
   "source": [
    "N = 20\n",
    "plot_bar_chart(np.array(spam_words_distribution)[0][:N],\n",
    "               vocabulary = vocabulary,\n",
    "               title='SPAM')\n",
    "plot_bar_chart(np.array(ham_words_distribution)[0][:N],\n",
    "               vocabulary = vocabulary,\n",
    "               title='HAM')"
   ]
  },
  {
   "cell_type": "code",
   "execution_count": 16,
   "metadata": {},
   "outputs": [
    {
     "name": "stdout",
     "output_type": "stream",
     "text": [
      "Primer email codificado:\n",
      "  (0, 19)\t1\n",
      "  (0, 24)\t2\n",
      "  (0, 273)\t1\n",
      "  (0, 305)\t1\n",
      "  (0, 533)\t1\n",
      "  (0, 562)\t1\n",
      "  (0, 701)\t1\n",
      "  (0, 717)\t1\n",
      "  (0, 1285)\t1\n",
      "  (0, 1418)\t1\n",
      "  (0, 1650)\t2\n",
      "Elementos distintos de cero: [  19   24  273  305  533  562  701  717 1285 1418 1650]\n",
      "Producto, no es necesario [P(Y) = P(SPAM) = P(HAM)] por que es para ambos casos igual. Lo mismo el denominador\n",
      "6.44553915496e-47\n",
      "2.35145394257e-43\n",
      "Log likelihood\n",
      "[[-106.35811108]]\n",
      "[[-98.15612516]]\n"
     ]
    }
   ],
   "source": [
    "# Veamos si el primer email es SPAM o no\n",
    "# El primer mail corresponde a la primer fila de la matriz\n",
    "row = feature_matrix[0,:]\n",
    "print('Primer email codificado:')\n",
    "print(row)\n",
    "non_zero_row = row.nonzero()\n",
    "print('Elementos distintos de cero:',non_zero_row[1])\n",
    "print('Producto, no es necesario [P(Y) = P(SPAM) = P(HAM)] por que es para ambos casos igual. Lo mismo el denominador')\n",
    "print(np.power(spam_words_distribution[non_zero_row], feature_matrix[non_zero_row]).prod())\n",
    "print(np.power(ham_words_distribution[non_zero_row], feature_matrix[non_zero_row]).prod())\n",
    "print('Log likelihood')\n",
    "print(np.log(spam_words_distribution[non_zero_row])*feature_matrix[non_zero_row].T)\n",
    "print(np.log(ham_words_distribution[non_zero_row])*feature_matrix[non_zero_row].T)"
   ]
  },
  {
   "cell_type": "markdown",
   "metadata": {},
   "source": [
    "¿Por que usamos log likelihood?"
   ]
  },
  {
   "cell_type": "code",
   "execution_count": 17,
   "metadata": {
    "collapsed": true
   },
   "outputs": [],
   "source": [
    "def get_accuracy(feature_matrix, labels, spam_words_distribution, ham_words_distribution):\n",
    "    P_SPAM = labels.nonzero()[0].shape[0]/len(labels) # Por que no es necesario en este caso?\n",
    "    P_HAM = np.logical_not(labels).nonzero()[0].shape[0]/len(labels) # Por que no es necesario en este caso?\n",
    "    correct_count = 0\n",
    "    for i, row in enumerate(feature_matrix):\n",
    "        coded_email = row.nonzero()\n",
    "        spam_prod = np.log(spam_words_distribution[coded_email]) * feature_matrix[i][coded_email].T\n",
    "        ham_prod = np.log(ham_words_distribution[coded_email]) * feature_matrix[i][coded_email].T\n",
    "        spam_log_likelihood = spam_prod+ np.log(P_SPAM)\n",
    "        ham_log_likelihood = ham_prod + np.log(P_HAM)\n",
    "        SPAM = spam_log_likelihood>=ham_log_likelihood\n",
    "        if SPAM == labels[i]:\n",
    "            correct_count = correct_count + 1\n",
    "    print('%0.3f'%(correct_count/len(labels)))"
   ]
  },
  {
   "cell_type": "code",
   "execution_count": 18,
   "metadata": {},
   "outputs": [
    {
     "name": "stdout",
     "output_type": "stream",
     "text": [
      "0.990\n"
     ]
    }
   ],
   "source": [
    "get_accuracy(feature_matrix, labels, spam_words_distribution, ham_words_distribution)"
   ]
  },
  {
   "cell_type": "markdown",
   "metadata": {},
   "source": [
    "## Test set"
   ]
  },
  {
   "cell_type": "code",
   "execution_count": 19,
   "metadata": {
    "collapsed": true
   },
   "outputs": [],
   "source": [
    "_, emails_array, labels_test = read_emails_and_get_dict('./ling-spam/test-mails', max_features)\n",
    "count_vectorizer_test = CountVectorizer(vocabulary=vocabulary)\n",
    "feature_matrix_test = count_vectorizer.fit_transform(emails_array)"
   ]
  },
  {
   "cell_type": "code",
   "execution_count": 20,
   "metadata": {},
   "outputs": [
    {
     "name": "stdout",
     "output_type": "stream",
     "text": [
      "0.962\n"
     ]
    }
   ],
   "source": [
    "get_accuracy(feature_matrix_test, labels_test, spam_words_distribution, ham_words_distribution)"
   ]
  },
  {
   "cell_type": "markdown",
   "metadata": {},
   "source": [
    "# Sklearn MultinomialNB"
   ]
  },
  {
   "cell_type": "code",
   "execution_count": 21,
   "metadata": {
    "collapsed": true
   },
   "outputs": [],
   "source": [
    "from sklearn.naive_bayes import MultinomialNB"
   ]
  },
  {
   "cell_type": "code",
   "execution_count": 22,
   "metadata": {
    "collapsed": true
   },
   "outputs": [],
   "source": [
    "clf = MultinomialNB(alpha=1, class_prior=[0.5, 0.5], fit_prior=False)"
   ]
  },
  {
   "cell_type": "code",
   "execution_count": 23,
   "metadata": {},
   "outputs": [
    {
     "data": {
      "text/plain": [
       "MultinomialNB(alpha=1, class_prior=[0.5, 0.5], fit_prior=False)"
      ]
     },
     "execution_count": 23,
     "metadata": {},
     "output_type": "execute_result"
    }
   ],
   "source": [
    "clf.fit(feature_matrix, labels)"
   ]
  },
  {
   "cell_type": "code",
   "execution_count": 24,
   "metadata": {},
   "outputs": [
    {
     "data": {
      "text/plain": [
       "0.99002849002849003"
      ]
     },
     "execution_count": 24,
     "metadata": {},
     "output_type": "execute_result"
    }
   ],
   "source": [
    "clf.score(feature_matrix, labels)"
   ]
  },
  {
   "cell_type": "code",
   "execution_count": 25,
   "metadata": {},
   "outputs": [
    {
     "data": {
      "text/plain": [
       "0.96153846153846156"
      ]
     },
     "execution_count": 25,
     "metadata": {},
     "output_type": "execute_result"
    }
   ],
   "source": [
    "clf.score(feature_matrix_test, labels_test)"
   ]
  },
  {
   "cell_type": "code",
   "execution_count": 26,
   "metadata": {},
   "outputs": [
    {
     "data": {
      "text/plain": [
       "array([False, False,  True, False,  True,  True,  True,  True, False,\n",
       "       False, False, False,  True,  True, False,  True, False, False,\n",
       "        True, False, False,  True, False,  True,  True,  True, False,\n",
       "        True,  True,  True,  True, False, False, False, False, False,\n",
       "       False,  True,  True,  True,  True,  True, False,  True,  True,\n",
       "       False, False,  True,  True, False], dtype=bool)"
      ]
     },
     "execution_count": 26,
     "metadata": {},
     "output_type": "execute_result"
    }
   ],
   "source": [
    "clf.predict(feature_matrix_test[100:150])"
   ]
  },
  {
   "cell_type": "code",
   "execution_count": 27,
   "metadata": {},
   "outputs": [
    {
     "data": {
      "text/plain": [
       "array([[  1.00000000e+000,   4.32577416e-203],\n",
       "       [  1.00000000e+000,   9.25701855e-168],\n",
       "       [  4.22016090e-015,   1.00000000e+000],\n",
       "       [  1.00000000e+000,   9.54021707e-106],\n",
       "       [  9.61964302e-147,   1.00000000e+000],\n",
       "       [  2.47312152e-090,   1.00000000e+000],\n",
       "       [  9.85266748e-006,   9.99990147e-001],\n",
       "       [  9.76629082e-029,   1.00000000e+000],\n",
       "       [  1.00000000e+000,   2.04412793e-077],\n",
       "       [  1.00000000e+000,   7.70903147e-057]])"
      ]
     },
     "execution_count": 27,
     "metadata": {},
     "output_type": "execute_result"
    }
   ],
   "source": [
    "clf.predict_proba(feature_matrix_test[100:110])"
   ]
  },
  {
   "cell_type": "markdown",
   "metadata": {},
   "source": [
    "# Sklearn BernoulliNB\n",
    "Suele ser interesante evaluar Multinomial y Bernoulli para comparar resultados. A veces para textos cortos BernoulliNB puede dar mejores resultados"
   ]
  },
  {
   "cell_type": "code",
   "execution_count": 28,
   "metadata": {},
   "outputs": [],
   "source": [
    "from sklearn.naive_bayes import BernoulliNB"
   ]
  },
  {
   "cell_type": "code",
   "execution_count": 29,
   "metadata": {},
   "outputs": [],
   "source": [
    "clf_Ber = BernoulliNB(alpha=1, class_prior=[0.5, 0.5], fit_prior=False, binarize=0.5)"
   ]
  },
  {
   "cell_type": "code",
   "execution_count": 30,
   "metadata": {},
   "outputs": [
    {
     "data": {
      "text/plain": [
       "BernoulliNB(alpha=1, binarize=0.5, class_prior=[0.5, 0.5], fit_prior=False)"
      ]
     },
     "execution_count": 30,
     "metadata": {},
     "output_type": "execute_result"
    }
   ],
   "source": [
    "clf_Ber.fit(feature_matrix, labels)"
   ]
  },
  {
   "cell_type": "code",
   "execution_count": 31,
   "metadata": {},
   "outputs": [
    {
     "data": {
      "text/plain": [
       "0.86039886039886038"
      ]
     },
     "execution_count": 31,
     "metadata": {},
     "output_type": "execute_result"
    }
   ],
   "source": [
    "clf_Ber.score(feature_matrix, labels)"
   ]
  },
  {
   "cell_type": "code",
   "execution_count": 32,
   "metadata": {},
   "outputs": [
    {
     "data": {
      "text/plain": [
       "0.76538461538461533"
      ]
     },
     "execution_count": 32,
     "metadata": {},
     "output_type": "execute_result"
    }
   ],
   "source": [
    "clf_Ber.score(feature_matrix_test, labels_test)"
   ]
  },
  {
   "cell_type": "markdown",
   "metadata": {},
   "source": [
    "# ¿Es posible graficar un problema de dimensión 3000 en 2 dimensiones?"
   ]
  },
  {
   "cell_type": "code",
   "execution_count": 33,
   "metadata": {
    "collapsed": true
   },
   "outputs": [],
   "source": [
    "from sklearn.manifold import TSNE\n",
    "from sklearn.decomposition import TruncatedSVD\n",
    "fmd = feature_matrix.todense()\n",
    "svd = TruncatedSVD(n_components=8, n_iter=200, random_state=42)\n",
    "svd.fit(fmd.T)\n",
    "X_embedded = TSNE(n_components=2).fit_transform(svd.components_.T)"
   ]
  },
  {
   "cell_type": "code",
   "execution_count": 34,
   "metadata": {},
   "outputs": [
    {
     "data": {
      "image/png": "[encoded data removed]",
      "text/plain": [
       "<matplotlib.figure.Figure at 0x10f5d1b70>"
      ]
     },
     "metadata": {},
     "output_type": "display_data"
    }
   ],
   "source": [
    "plt.figure(figsize=(20,10))\n",
    "plt.scatter(X_embedded[labels,0], X_embedded[labels,1], color='b', s=10)\n",
    "plt.scatter(X_embedded[np.logical_not(labels),0], X_embedded[np.logical_not(labels),1], color='r', s=10)\n",
    "plt.show()"
   ]
  },
  {
   "cell_type": "code",
   "execution_count": 38,
   "metadata": {},
   "outputs": [
    {
     "data": {
      "text/plain": [
       "(702, 3000)"
      ]
     },
     "execution_count": 38,
     "metadata": {},
     "output_type": "execute_result"
    }
   ],
   "source": [
    "fmd.shape"
   ]
  },
  {
   "cell_type": "code",
   "execution_count": 39,
   "metadata": {},
   "outputs": [],
   "source": [
    "from sklearn.decomposition import PCA"
   ]
  },
  {
   "cell_type": "code",
   "execution_count": 48,
   "metadata": {},
   "outputs": [],
   "source": [
    "pca = PCA(n_components=2)\n",
    "X_new = pca.fit_transform(fmd)"
   ]
  },
  {
   "cell_type": "code",
   "execution_count": 58,
   "metadata": {},
   "outputs": [
    {
     "data": {
      "image/png": "[encoded data removed]",
      "text/plain": [
       "<matplotlib.figure.Figure at 0x10f7af9e8>"
      ]
     },
     "metadata": {},
     "output_type": "display_data"
    }
   ],
   "source": [
    "plt.figure(figsize=(20,10))\n",
    "plt.scatter(X_new[labels,0], X_new[labels,1], color='b', s=10)\n",
    "plt.scatter(X_new[np.logical_not(labels),0], X_new[np.logical_not(labels),1], color='r', s=10)\n",
    "plt.ylim([-2,2])\n",
    "plt.xlim([-10,10])\n",
    "plt.show()"
   ]
  },
  {
   "cell_type": "code",
   "execution_count": 36,
   "metadata": {},
   "outputs": [
    {
     "ename": "ValueError",
     "evalue": "eps=0.100000 and n_samples=702 lead to a target dimension of 5617 which is larger than the original space with n_features=3000",
     "output_type": "error",
     "traceback": [
      "\u001b[0;31m---------------------------------------------------------------------------\u001b[0m",
      "\u001b[0;31mValueError\u001b[0m                                Traceback (most recent call last)",
      "\u001b[0;32m<ipython-input-36-d33bf3c000a4>\u001b[0m in \u001b[0;36m<module>\u001b[0;34m()\u001b[0m\n\u001b[1;32m      1\u001b[0m \u001b[0;32mfrom\u001b[0m \u001b[0msklearn\u001b[0m \u001b[0;32mimport\u001b[0m \u001b[0mrandom_projection\u001b[0m\u001b[0;34m\u001b[0m\u001b[0m\n\u001b[1;32m      2\u001b[0m \u001b[0mtransformer\u001b[0m \u001b[0;34m=\u001b[0m \u001b[0mrandom_projection\u001b[0m\u001b[0;34m.\u001b[0m\u001b[0mSparseRandomProjection\u001b[0m\u001b[0;34m(\u001b[0m\u001b[0;34m)\u001b[0m\u001b[0;34m\u001b[0m\u001b[0m\n\u001b[0;32m----> 3\u001b[0;31m \u001b[0mX_new\u001b[0m \u001b[0;34m=\u001b[0m \u001b[0mtransformer\u001b[0m\u001b[0;34m.\u001b[0m\u001b[0mfit_transform\u001b[0m\u001b[0;34m(\u001b[0m\u001b[0mfmd\u001b[0m\u001b[0;34m)\u001b[0m\u001b[0;34m\u001b[0m\u001b[0m\n\u001b[0m",
      "\u001b[0;32m~/anaconda3/envs/mllab/lib/python3.6/site-packages/sklearn/base.py\u001b[0m in \u001b[0;36mfit_transform\u001b[0;34m(self, X, y, **fit_params)\u001b[0m\n\u001b[1;32m    516\u001b[0m         \u001b[0;32mif\u001b[0m \u001b[0my\u001b[0m \u001b[0;32mis\u001b[0m \u001b[0;32mNone\u001b[0m\u001b[0;34m:\u001b[0m\u001b[0;34m\u001b[0m\u001b[0m\n\u001b[1;32m    517\u001b[0m             \u001b[0;31m# fit method of arity 1 (unsupervised transformation)\u001b[0m\u001b[0;34m\u001b[0m\u001b[0;34m\u001b[0m\u001b[0m\n\u001b[0;32m--> 518\u001b[0;31m             \u001b[0;32mreturn\u001b[0m \u001b[0mself\u001b[0m\u001b[0;34m.\u001b[0m\u001b[0mfit\u001b[0m\u001b[0;34m(\u001b[0m\u001b[0mX\u001b[0m\u001b[0;34m,\u001b[0m \u001b[0;34m**\u001b[0m\u001b[0mfit_params\u001b[0m\u001b[0;34m)\u001b[0m\u001b[0;34m.\u001b[0m\u001b[0mtransform\u001b[0m\u001b[0;34m(\u001b[0m\u001b[0mX\u001b[0m\u001b[0;34m)\u001b[0m\u001b[0;34m\u001b[0m\u001b[0m\n\u001b[0m\u001b[1;32m    519\u001b[0m         \u001b[0;32melse\u001b[0m\u001b[0;34m:\u001b[0m\u001b[0;34m\u001b[0m\u001b[0m\n\u001b[1;32m    520\u001b[0m             \u001b[0;31m# fit method of arity 2 (supervised transformation)\u001b[0m\u001b[0;34m\u001b[0m\u001b[0;34m\u001b[0m\u001b[0m\n",
      "\u001b[0;32m~/anaconda3/envs/mllab/lib/python3.6/site-packages/sklearn/random_projection.py\u001b[0m in \u001b[0;36mfit\u001b[0;34m(self, X, y)\u001b[0m\n\u001b[1;32m    364\u001b[0m                     \u001b[0;34m'%d which is larger than the original space with '\u001b[0m\u001b[0;34m\u001b[0m\u001b[0m\n\u001b[1;32m    365\u001b[0m                     'n_features=%d' % (self.eps, n_samples, self.n_components_,\n\u001b[0;32m--> 366\u001b[0;31m                                        n_features))\n\u001b[0m\u001b[1;32m    367\u001b[0m         \u001b[0;32melse\u001b[0m\u001b[0;34m:\u001b[0m\u001b[0;34m\u001b[0m\u001b[0m\n\u001b[1;32m    368\u001b[0m             \u001b[0;32mif\u001b[0m \u001b[0mself\u001b[0m\u001b[0;34m.\u001b[0m\u001b[0mn_components\u001b[0m \u001b[0;34m<=\u001b[0m \u001b[0;36m0\u001b[0m\u001b[0;34m:\u001b[0m\u001b[0;34m\u001b[0m\u001b[0m\n",
      "\u001b[0;31mValueError\u001b[0m: eps=0.100000 and n_samples=702 lead to a target dimension of 5617 which is larger than the original space with n_features=3000"
     ]
    }
   ],
   "source": [
    "from sklearn import random_projection\n",
    "transformer = random_projection.SparseRandomProjection()\n",
    "X_new = transformer.fit_transform(fmd)"
   ]
  },
  {
   "cell_type": "code",
   "execution_count": null,
   "metadata": {},
   "outputs": [],
   "source": []
  },
  {
   "cell_type": "markdown",
   "metadata": {},
   "source": [
    "# Gaussian NB\n",
    "https://en.wikipedia.org/wiki/Naive_Bayes_classifier#Sex_classification"
   ]
  },
  {
   "cell_type": "code",
   "execution_count": 50,
   "metadata": {
    "collapsed": true
   },
   "outputs": [],
   "source": [
    "# Datos originales de wikipedia\n",
    "data = [\n",
    "    {\"genero\":'hombre', 'altura': 6, 'peso': 180,'pie':12}, \n",
    "    {\"genero\":'hombre', 'altura': 5.92, 'peso': 190,'pie':11}, \n",
    "    {\"genero\":'hombre', 'altura': 5.58, 'peso': 170,'pie':12}, \n",
    "    {\"genero\":'hombre', 'altura': 5.92, 'peso': 165,'pie':10}, \n",
    "    {\"genero\":'mujer', 'altura': 5, 'peso': 100,'pie':6}, \n",
    "    {\"genero\":'mujer', 'altura': 5.5, 'peso': 150,'pie':8}, \n",
    "    {\"genero\":'mujer', 'altura': 5.42, 'peso': 130,'pie':7}, \n",
    "    {\"genero\":'mujer', 'altura': 5.75, 'peso': 150,'pie':9}, \n",
    "]"
   ]
  },
  {
   "cell_type": "code",
   "execution_count": 51,
   "metadata": {
    "collapsed": true
   },
   "outputs": [],
   "source": [
    "# Altura en cm y peso en kg\n",
    "data = [{'altura': 183, 'genero': 'hombre', 'peso': 82, 'pie': 12},\n",
    "         {'altura': 180, 'genero': 'hombre', 'peso': 86, 'pie': 11},\n",
    "         {'altura': 170,'genero': 'hombre','peso': 77,'pie': 12},\n",
    "         {'altura': 180, 'genero': 'hombre', 'peso': 75, 'pie': 10},\n",
    "         {'altura': 152, 'genero': 'mujer', 'peso': 45, 'pie': 6},\n",
    "         {'altura': 167, 'genero': 'mujer', 'peso': 68, 'pie': 8},\n",
    "         {'altura': 165, 'genero': 'mujer', 'peso': 59, 'pie': 7},\n",
    "         {'altura': 175, 'genero': 'mujer', 'peso': 68, 'pie': 9}]"
   ]
  },
  {
   "cell_type": "code",
   "execution_count": 52,
   "metadata": {},
   "outputs": [
    {
     "name": "stdout",
     "output_type": "stream",
     "text": [
      "Matriz y lista antes de llenar\n",
      "[[ 0.  0.  0.]\n",
      " [ 0.  0.  0.]\n",
      " [ 0.  0.  0.]\n",
      " [ 0.  0.  0.]\n",
      " [ 0.  0.  0.]\n",
      " [ 0.  0.  0.]\n",
      " [ 0.  0.  0.]\n",
      " [ 0.  0.  0.]]\n",
      "[None None None None None None None None]\n",
      "\n",
      "Matriz y lista con los datos:\n",
      "[[ 183.   82.   12.]\n",
      " [ 180.   86.   11.]\n",
      " [ 170.   77.   12.]\n",
      " [ 180.   75.   10.]\n",
      " [ 152.   45.    6.]\n",
      " [ 167.   68.    8.]\n",
      " [ 165.   59.    7.]\n",
      " [ 175.   68.    9.]]\n",
      "['hombre' 'hombre' 'hombre' 'hombre' 'mujer' 'mujer' 'mujer' 'mujer']\n"
     ]
    }
   ],
   "source": [
    "GNB_features_matrix = np.zeros((len(data),3))\n",
    "GNB_labels = np.empty((len(data)), dtype=object)\n",
    "print('Matriz y lista antes de llenar')\n",
    "print(GNB_features_matrix)\n",
    "print(GNB_labels)\n",
    "\n",
    "for i, person in enumerate(data):\n",
    "    GNB_features_matrix[i, 0] = person['altura']\n",
    "    GNB_features_matrix[i, 1] = person['peso']\n",
    "    GNB_features_matrix[i, 2] = person['pie']\n",
    "    GNB_labels[i] = person['genero']\n",
    "print()\n",
    "print('Matriz y lista con los datos:')\n",
    "print(GNB_features_matrix)\n",
    "print(GNB_labels)"
   ]
  },
  {
   "cell_type": "code",
   "execution_count": 53,
   "metadata": {},
   "outputs": [
    {
     "name": "stdout",
     "output_type": "stream",
     "text": [
      "medias de los hombres: [ 178.25   80.     11.25]\n",
      "varianzas de los hombres: [ 32.25        24.66666667   0.91666667]\n",
      "medias de las mujeres: [ 164.75   60.      7.5 ]\n",
      "varianzas de las mujeres: [  90.91666667  118.            1.66666667]\n"
     ]
    }
   ],
   "source": [
    "men_means = GNB_features_matrix[GNB_labels=='hombre',:].mean(axis=0)\n",
    "women_means = GNB_features_matrix[GNB_labels=='mujer',:].mean(axis=0)\n",
    "men_vars = GNB_features_matrix[GNB_labels=='hombre',:].var(axis=0, ddof=1)\n",
    "women_vars = GNB_features_matrix[GNB_labels=='mujer',:].var(axis=0, ddof=1)\n",
    "print('medias de los hombres:', men_means)\n",
    "print('varianzas de los hombres:', men_vars)\n",
    "print('medias de las mujeres:', women_means)\n",
    "print('varianzas de las mujeres:', women_vars)"
   ]
  },
  {
   "cell_type": "code",
   "execution_count": 54,
   "metadata": {
    "collapsed": true
   },
   "outputs": [],
   "source": [
    "def gaussian(x, mu, sig):\n",
    "    return np.exp(-np.power((x - mu)/sig, 2.)/2)/(np.sqrt(2.*np.pi)*sig)\n",
    "\n",
    "def plot_gaussian(mu=0, sig= 1, points = 200, N = 2, marker=None, label = None, x = None, color = None, \n",
    "                  x_label='',y_label='',ax = None, figsize = (20,10), center_label_tick = None):\n",
    "    if ax is None:\n",
    "        f, ax = plt.subplots(1, 1, sharey=True, sharex=True, figsize = figsize)\n",
    "    if x is None:\n",
    "        x = np.linspace(mu-N*sig, mu+N*sig, points)\n",
    "    y = gaussian(x, mu, sig)\n",
    "    ax.plot(x,y, marker = marker, label = label, color = color)\n",
    "    ax.set_ylabel(y_label)\n",
    "    ax.set_xlabel(x_label)\n",
    "\n",
    "    if center_label_tick is not None:\n",
    "        labels = [item.get_text() for item in ax.get_xticklabels()]\n",
    "        labels[int((len(labels)-1)/2)] = center_label_tick\n",
    "        ax.set_xticklabels(labels)\n",
    "\n",
    "    return x, y"
   ]
  },
  {
   "cell_type": "code",
   "execution_count": 55,
   "metadata": {},
   "outputs": [
    {
     "data": {
      "image/png": "[encoded data removed]",
      "text/plain": [
       "<matplotlib.figure.Figure at 0x10b82c160>"
      ]
     },
     "metadata": {},
     "output_type": "display_data"
    }
   ],
   "source": [
    "sample = np.array([180,90,10])\n",
    "\n",
    "f, axs = plt.subplots(3, 1, sharey=False, sharex=False, figsize = (20,8))\n",
    "keys = ['altura', 'peso','pie']\n",
    "for i, ax in enumerate(axs):\n",
    "    plot_gaussian(men_means[i], np.sqrt(men_vars[i]), ax=ax, N=10, color='b', label='hombre')\n",
    "    plot_gaussian(women_means[i], np.sqrt(women_vars[i]), ax=ax, N=4, color='g', label='mujer')\n",
    "    ax.scatter(sample[i], gaussian(sample[i], men_means[i], np.sqrt(men_vars[i])), color='b')\n",
    "    ax.scatter(sample[i], gaussian(sample[i], women_means[i], np.sqrt(women_vars[i])), color='g')\n",
    "    ax.title.set_text(keys[i])\n",
    "    ax.legend()\n",
    "plt.show()"
   ]
  },
  {
   "cell_type": "code",
   "execution_count": 56,
   "metadata": {},
   "outputs": [
    {
     "name": "stdout",
     "output_type": "stream",
     "text": [
      "Posteriori de hombre: 6.29781391114e-05\n"
     ]
    }
   ],
   "source": [
    "p_hombre = len(GNB_features_matrix[GNB_labels=='hombre',:])/len(GNB_features_matrix)\n",
    "p_altura_hombre = gaussian(sample[0], men_means[0], np.sqrt(men_vars[0]))\n",
    "p_peso_hombre = gaussian(sample[1], men_means[1], np.sqrt(men_vars[1]))\n",
    "p_pie_hombre = gaussian(sample[2], men_means[2], np.sqrt(men_vars[2]))\n",
    "posterior_hombre = p_hombre*p_altura_hombre*p_peso_hombre*p_pie_hombre\n",
    "print('Posteriori de hombre:', posterior_hombre)"
   ]
  },
  {
   "cell_type": "code",
   "execution_count": 57,
   "metadata": {},
   "outputs": [
    {
     "name": "stdout",
     "output_type": "stream",
     "text": [
      "Posteriori de Mujer: 2.2363824638e-07\n"
     ]
    }
   ],
   "source": [
    "p_mujer = len(GNB_features_matrix[GNB_labels=='hombre',:])/len(GNB_features_matrix)\n",
    "p_altura_mujer = gaussian(sample[0], women_means[0], np.sqrt(women_vars[0]))\n",
    "p_peso_mujer = gaussian(sample[1], women_means[1], np.sqrt(women_vars[1]))\n",
    "p_pie_mujer = gaussian(sample[2], women_means[2], np.sqrt(women_vars[2]))\n",
    "posterior_mujer = p_mujer*p_altura_mujer*p_peso_mujer*p_pie_mujer\n",
    "print('Posteriori de Mujer:', posterior_mujer)"
   ]
  },
  {
   "cell_type": "code",
   "execution_count": 58,
   "metadata": {},
   "outputs": [
    {
     "name": "stdout",
     "output_type": "stream",
     "text": [
      "HOMBRE\n"
     ]
    }
   ],
   "source": [
    "if posterior_mujer>posterior_hombre:\n",
    "    print('MUJER')\n",
    "else:\n",
    "    print('HOMBRE')"
   ]
  },
  {
   "cell_type": "markdown",
   "metadata": {},
   "source": [
    "Notar que no hace falta calcular el denominador"
   ]
  },
  {
   "cell_type": "markdown",
   "metadata": {},
   "source": [
    "# Utilizando sklearn"
   ]
  },
  {
   "cell_type": "code",
   "execution_count": 59,
   "metadata": {
    "collapsed": true
   },
   "outputs": [],
   "source": [
    "from sklearn.naive_bayes import GaussianNB\n",
    "gnb = GaussianNB()\n",
    "y_pred = gnb.fit(GNB_features_matrix, GNB_labels)"
   ]
  },
  {
   "cell_type": "code",
   "execution_count": 80,
   "metadata": {},
   "outputs": [
    {
     "name": "stdout",
     "output_type": "stream",
     "text": [
      "['hombre' 'mujer' 'mujer' 'hombre']\n",
      "[[  9.99077440e-01   9.22560042e-04]\n",
      " [  3.59206251e-07   9.99999641e-01]\n",
      " [  4.34003950e-01   5.65996050e-01]\n",
      " [  5.59309521e-01   4.40690479e-01]]\n"
     ]
    }
   ],
   "source": [
    "samples = np.array([[180,90,10], [160, 70, 8], [178, 73, 9], [178, 74, 9]])\n",
    "print(y_pred.predict(samples))\n",
    "print(y_pred.predict_proba(samples))"
   ]
  },
  {
   "cell_type": "markdown",
   "metadata": {},
   "source": [
    "## Problema 2\n",
    "Utilizando las siguientes funciones/paquetes resolver los siguientes problemas de clasificación en **problema_2.py**:\n",
    "\n",
    "**genfromtxt** de **numpy** para leer los dos datasets:\n",
    "- ./datasets/student_admission.txt\n",
    "- ./datasets/chip_tests.txt\n",
    "\n",
    "**train_test_split** de **sklearn** para dividir entre test set y train set. Recomendamos un 40% de datos para test set\n",
    "\n",
    "**GaussianNB** de **sklearn** como modelo de ML.\n",
    "\n",
    "Y la función **plot_boundaries(X_train, X_test, y_train, y_test, score, predict_proba, ax=ax, h=h)** incluida en problema_2.py para graficar los resultados. X_train es un np.array con los features de entrada, y_train es la etiqueta. Lo mismo con X_test e y_test, Score es el 'accuracy' del modelo, predict_proba es la función que dada una entrada de la probabilidad de clasificar correcto y h es el paso para la grafica del 'boundary'"
   ]
  }
 ],
 "metadata": {
  "kernelspec": {
   "display_name": "Python 3",
   "language": "python",
   "name": "python3"
  },
  "language_info": {
   "codemirror_mode": {
    "name": "ipython",
    "version": 3
   },
   "file_extension": ".py",
   "mimetype": "text/x-python",
   "name": "python",
   "nbconvert_exporter": "python",
   "pygments_lexer": "ipython3",
   "version": "3.6.2"
  },
  "toc": {
   "colors": {
    "hover_highlight": "#DAA520",
    "navigate_num": "#000000",
    "navigate_text": "#333333",
    "running_highlight": "#FF0000",
    "selected_highlight": "#FFD700",
    "sidebar_border": "#EEEEEE",
    "wrapper_background": "#FFFFFF"
   },
   "moveMenuLeft": true,
   "nav_menu": {
    "height": "48px",
    "width": "252px"
   },
   "navigate_menu": true,
   "number_sections": true,
   "sideBar": false,
   "threshold": 4,
   "toc_cell": false,
   "toc_position": {
    "height": "295px",
    "left": "1px",
    "right": "20px",
    "top": "67px",
    "width": "212px"
   },
   "toc_section_display": "block",
   "toc_window_display": false,
   "widenNotebook": false
  }
 },
 "nbformat": 4,
 "nbformat_minor": 2
}
