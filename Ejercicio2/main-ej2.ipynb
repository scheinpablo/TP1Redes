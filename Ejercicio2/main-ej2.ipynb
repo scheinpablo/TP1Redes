{
 "metadata": {
  "language_info": {
   "codemirror_mode": {
    "name": "ipython",
    "version": 3
   },
   "file_extension": ".py",
   "mimetype": "text/x-python",
   "name": "python",
   "nbconvert_exporter": "python",
   "pygments_lexer": "ipython3",
   "version": "3.9.2"
  },
  "orig_nbformat": 4,
  "kernelspec": {
   "name": "python3",
   "display_name": "Python 3.9.2 64-bit"
  },
  "interpreter": {
   "hash": "35d319f83ab08ecd497627408ea36f4ad0a0ef0ec31f33b5bf93fec9ccad80dc"
  }
 },
 "nbformat": 4,
 "nbformat_minor": 2,
 "cells": [
  {
   "source": [
    "# Ejercicio 2\n",
    "\n",
    "Correciones realizadas:\n",
    "- No utilizar datos de validación para reemplazar datos.\n",
    "  - Por ejemplo guardar la mediana de las columnas del set de train, en vez de la de todo el set.\n",
    "- k folds independientes. \n",
    "  - Calcular por ejemplo las medianas de train en cada k fold y reemplazar en base a lo obtenido.\n",
    "- Agregar hiperparámetros.\n",
    "  - Reemplazar nulos por la mediana vs no reemplazarlos.\n",
    "  - Eliminar columnas individualmente.\n",
    "  - Eliminar conjuntamente las columnas que individualmente hayan mejorado la métrica.\n",
    "- Chequear que no haya overfitting.\n",
    "\n",
    "\n",
    "## Exploratory Data Analysis (EDA)\n",
    "\n",
    "### Importamos los datos\n",
    "\n",
    "Realizamos la lectura del archivo y lo guardamos en un data frame."
   ],
   "cell_type": "markdown",
   "metadata": {}
  },
  {
   "cell_type": "code",
   "execution_count": 32,
   "metadata": {},
   "outputs": [],
   "source": [
    "import pandas as pd\n",
    "pd.options.mode.chained_assignment = None  # default='warn'\n",
    "df = pd.read_csv('diabetes.csv')"
   ]
  },
  {
   "cell_type": "code",
   "execution_count": 33,
   "metadata": {},
   "outputs": [],
   "source": [
    "# Se importan librerías para graficar.\n",
    "import matplotlib.pyplot as plt\n",
    "import seaborn as sns\n",
    "import numpy as np"
   ]
  },
  {
   "source": [
    "### Verificación del formato\n",
    "\n",
    "Imprimimos ahora las primeras 5 filas del data frame para analizar su estructura básica."
   ],
   "cell_type": "markdown",
   "metadata": {}
  },
  {
   "cell_type": "code",
   "execution_count": 34,
   "metadata": {},
   "outputs": [
    {
     "output_type": "execute_result",
     "data": {
      "text/plain": [
       "   Pregnancies  Glucose  BloodPressure  SkinThickness  Insulin   BMI  \\\n",
       "0            6      148             72             35        0  33.6   \n",
       "1            1       85             66             29        0  26.6   \n",
       "2            8      183             64              0        0  23.3   \n",
       "3            1       89             66             23       94  28.1   \n",
       "4            0      137             40             35      168  43.1   \n",
       "\n",
       "   DiabetesPedigreeFunction  Age  Outcome  \n",
       "0                     0.627   50        1  \n",
       "1                     0.351   31        0  \n",
       "2                     0.672   32        1  \n",
       "3                     0.167   21        0  \n",
       "4                     2.288   33        1  "
      ],
      "text/html": "<div>\n<style scoped>\n    .dataframe tbody tr th:only-of-type {\n        vertical-align: middle;\n    }\n\n    .dataframe tbody tr th {\n        vertical-align: top;\n    }\n\n    .dataframe thead th {\n        text-align: right;\n    }\n</style>\n<table border=\"1\" class=\"dataframe\">\n  <thead>\n    <tr style=\"text-align: right;\">\n      <th></th>\n      <th>Pregnancies</th>\n      <th>Glucose</th>\n      <th>BloodPressure</th>\n      <th>SkinThickness</th>\n      <th>Insulin</th>\n      <th>BMI</th>\n      <th>DiabetesPedigreeFunction</th>\n      <th>Age</th>\n      <th>Outcome</th>\n    </tr>\n  </thead>\n  <tbody>\n    <tr>\n      <th>0</th>\n      <td>6</td>\n      <td>148</td>\n      <td>72</td>\n      <td>35</td>\n      <td>0</td>\n      <td>33.6</td>\n      <td>0.627</td>\n      <td>50</td>\n      <td>1</td>\n    </tr>\n    <tr>\n      <th>1</th>\n      <td>1</td>\n      <td>85</td>\n      <td>66</td>\n      <td>29</td>\n      <td>0</td>\n      <td>26.6</td>\n      <td>0.351</td>\n      <td>31</td>\n      <td>0</td>\n    </tr>\n    <tr>\n      <th>2</th>\n      <td>8</td>\n      <td>183</td>\n      <td>64</td>\n      <td>0</td>\n      <td>0</td>\n      <td>23.3</td>\n      <td>0.672</td>\n      <td>32</td>\n      <td>1</td>\n    </tr>\n    <tr>\n      <th>3</th>\n      <td>1</td>\n      <td>89</td>\n      <td>66</td>\n      <td>23</td>\n      <td>94</td>\n      <td>28.1</td>\n      <td>0.167</td>\n      <td>21</td>\n      <td>0</td>\n    </tr>\n    <tr>\n      <th>4</th>\n      <td>0</td>\n      <td>137</td>\n      <td>40</td>\n      <td>35</td>\n      <td>168</td>\n      <td>43.1</td>\n      <td>2.288</td>\n      <td>33</td>\n      <td>1</td>\n    </tr>\n  </tbody>\n</table>\n</div>"
     },
     "metadata": {},
     "execution_count": 34
    }
   ],
   "source": [
    "df.head()"
   ]
  },
  {
   "source": [
    "El tamaño del data frame con el que trabajaremos es:"
   ],
   "cell_type": "markdown",
   "metadata": {}
  },
  {
   "cell_type": "code",
   "execution_count": 35,
   "metadata": {},
   "outputs": [
    {
     "output_type": "stream",
     "name": "stdout",
     "text": [
      "(768, 9)\n"
     ]
    }
   ],
   "source": [
    "print(df.shape)"
   ]
  },
  {
   "source": [
    "Utilizamos el método .info() para ver los datatypes y si hay celdas con contenido nulo (vacías)"
   ],
   "cell_type": "markdown",
   "metadata": {}
  },
  {
   "cell_type": "code",
   "execution_count": 36,
   "metadata": {},
   "outputs": [
    {
     "output_type": "stream",
     "name": "stdout",
     "text": [
      "<class 'pandas.core.frame.DataFrame'>\nRangeIndex: 768 entries, 0 to 767\nData columns (total 9 columns):\n #   Column                    Non-Null Count  Dtype  \n---  ------                    --------------  -----  \n 0   Pregnancies               768 non-null    int64  \n 1   Glucose                   768 non-null    int64  \n 2   BloodPressure             768 non-null    int64  \n 3   SkinThickness             768 non-null    int64  \n 4   Insulin                   768 non-null    int64  \n 5   BMI                       768 non-null    float64\n 6   DiabetesPedigreeFunction  768 non-null    float64\n 7   Age                       768 non-null    int64  \n 8   Outcome                   768 non-null    int64  \ndtypes: float64(2), int64(7)\nmemory usage: 54.1 KB\n"
     ]
    }
   ],
   "source": [
    "df.info()"
   ]
  },
  {
   "source": [
    "Con la siguiente linea contamos los valores nulos para el data frame. De esta manera chequeamos efectivamente que no hay datos vacíos para ninguna característica."
   ],
   "cell_type": "markdown",
   "metadata": {}
  },
  {
   "cell_type": "code",
   "execution_count": 37,
   "metadata": {},
   "outputs": [
    {
     "output_type": "execute_result",
     "data": {
      "text/plain": [
       "Pregnancies                 0\n",
       "Glucose                     0\n",
       "BloodPressure               0\n",
       "SkinThickness               0\n",
       "Insulin                     0\n",
       "BMI                         0\n",
       "DiabetesPedigreeFunction    0\n",
       "Age                         0\n",
       "Outcome                     0\n",
       "dtype: int64"
      ]
     },
     "metadata": {},
     "execution_count": 37
    }
   ],
   "source": [
    "df.isnull().sum()"
   ]
  },
  {
   "source": [
    "Podemos utilizar el método describe para examinar como son los valores que se presentan dentro del dataframe.  "
   ],
   "cell_type": "markdown",
   "metadata": {}
  },
  {
   "cell_type": "code",
   "execution_count": 38,
   "metadata": {},
   "outputs": [
    {
     "output_type": "execute_result",
     "data": {
      "text/plain": [
       "       Pregnancies     Glucose  BloodPressure  SkinThickness     Insulin  \\\n",
       "count   768.000000  768.000000     768.000000     768.000000  768.000000   \n",
       "mean      3.845052  120.894531      69.105469      20.536458   79.799479   \n",
       "std       3.369578   31.972618      19.355807      15.952218  115.244002   \n",
       "min       0.000000    0.000000       0.000000       0.000000    0.000000   \n",
       "25%       1.000000   99.000000      62.000000       0.000000    0.000000   \n",
       "50%       3.000000  117.000000      72.000000      23.000000   30.500000   \n",
       "75%       6.000000  140.250000      80.000000      32.000000  127.250000   \n",
       "max      17.000000  199.000000     122.000000      99.000000  846.000000   \n",
       "\n",
       "              BMI  DiabetesPedigreeFunction         Age     Outcome  \n",
       "count  768.000000                768.000000  768.000000  768.000000  \n",
       "mean    31.992578                  0.471876   33.240885    0.348958  \n",
       "std      7.884160                  0.331329   11.760232    0.476951  \n",
       "min      0.000000                  0.078000   21.000000    0.000000  \n",
       "25%     27.300000                  0.243750   24.000000    0.000000  \n",
       "50%     32.000000                  0.372500   29.000000    0.000000  \n",
       "75%     36.600000                  0.626250   41.000000    1.000000  \n",
       "max     67.100000                  2.420000   81.000000    1.000000  "
      ],
      "text/html": "<div>\n<style scoped>\n    .dataframe tbody tr th:only-of-type {\n        vertical-align: middle;\n    }\n\n    .dataframe tbody tr th {\n        vertical-align: top;\n    }\n\n    .dataframe thead th {\n        text-align: right;\n    }\n</style>\n<table border=\"1\" class=\"dataframe\">\n  <thead>\n    <tr style=\"text-align: right;\">\n      <th></th>\n      <th>Pregnancies</th>\n      <th>Glucose</th>\n      <th>BloodPressure</th>\n      <th>SkinThickness</th>\n      <th>Insulin</th>\n      <th>BMI</th>\n      <th>DiabetesPedigreeFunction</th>\n      <th>Age</th>\n      <th>Outcome</th>\n    </tr>\n  </thead>\n  <tbody>\n    <tr>\n      <th>count</th>\n      <td>768.000000</td>\n      <td>768.000000</td>\n      <td>768.000000</td>\n      <td>768.000000</td>\n      <td>768.000000</td>\n      <td>768.000000</td>\n      <td>768.000000</td>\n      <td>768.000000</td>\n      <td>768.000000</td>\n    </tr>\n    <tr>\n      <th>mean</th>\n      <td>3.845052</td>\n      <td>120.894531</td>\n      <td>69.105469</td>\n      <td>20.536458</td>\n      <td>79.799479</td>\n      <td>31.992578</td>\n      <td>0.471876</td>\n      <td>33.240885</td>\n      <td>0.348958</td>\n    </tr>\n    <tr>\n      <th>std</th>\n      <td>3.369578</td>\n      <td>31.972618</td>\n      <td>19.355807</td>\n      <td>15.952218</td>\n      <td>115.244002</td>\n      <td>7.884160</td>\n      <td>0.331329</td>\n      <td>11.760232</td>\n      <td>0.476951</td>\n    </tr>\n    <tr>\n      <th>min</th>\n      <td>0.000000</td>\n      <td>0.000000</td>\n      <td>0.000000</td>\n      <td>0.000000</td>\n      <td>0.000000</td>\n      <td>0.000000</td>\n      <td>0.078000</td>\n      <td>21.000000</td>\n      <td>0.000000</td>\n    </tr>\n    <tr>\n      <th>25%</th>\n      <td>1.000000</td>\n      <td>99.000000</td>\n      <td>62.000000</td>\n      <td>0.000000</td>\n      <td>0.000000</td>\n      <td>27.300000</td>\n      <td>0.243750</td>\n      <td>24.000000</td>\n      <td>0.000000</td>\n    </tr>\n    <tr>\n      <th>50%</th>\n      <td>3.000000</td>\n      <td>117.000000</td>\n      <td>72.000000</td>\n      <td>23.000000</td>\n      <td>30.500000</td>\n      <td>32.000000</td>\n      <td>0.372500</td>\n      <td>29.000000</td>\n      <td>0.000000</td>\n    </tr>\n    <tr>\n      <th>75%</th>\n      <td>6.000000</td>\n      <td>140.250000</td>\n      <td>80.000000</td>\n      <td>32.000000</td>\n      <td>127.250000</td>\n      <td>36.600000</td>\n      <td>0.626250</td>\n      <td>41.000000</td>\n      <td>1.000000</td>\n    </tr>\n    <tr>\n      <th>max</th>\n      <td>17.000000</td>\n      <td>199.000000</td>\n      <td>122.000000</td>\n      <td>99.000000</td>\n      <td>846.000000</td>\n      <td>67.100000</td>\n      <td>2.420000</td>\n      <td>81.000000</td>\n      <td>1.000000</td>\n    </tr>\n  </tbody>\n</table>\n</div>"
     },
     "metadata": {},
     "execution_count": 38
    }
   ],
   "source": [
    "df.describe()"
   ]
  },
  {
   "source": [
    "En particular, se puede notar a partir de la tabla realizada que los valores mínimos en algunas columnas tienen valor cero. En algunos casos como por ejemplo en la presión sanguínea, dicho valor carece de sentido físico para una persona viva. Por lo tanto se concluyó que se trata de datos erróneos los cuales deberán ser tratados en la etapa de limpieza de datos. "
   ],
   "cell_type": "markdown",
   "metadata": {}
  },
  {
   "source": [
    "A continuación se estudian las cantidades de los casos que tienen y que no tienen diabetes. Posteriormente, se imprimen en un Pie Plot las proporciones con respecto al total de los casos."
   ],
   "cell_type": "markdown",
   "metadata": {}
  },
  {
   "cell_type": "code",
   "execution_count": 39,
   "metadata": {},
   "outputs": [
    {
     "output_type": "stream",
     "name": "stdout",
     "text": [
      "Healthy people: 500\nSick people: 268\nTotal: 768\n"
     ]
    }
   ],
   "source": [
    "healthy_people_num = (df['Outcome'] == 0).sum()\n",
    "sick_people_num = (df['Outcome'] != 0).sum()\n",
    "total = df.shape[0]\n",
    "print(\"Healthy people: \" + str(healthy_people_num))\n",
    "print(\"Sick people: \" + str(sick_people_num))\n",
    "print(\"Total: \" + str(total))"
   ]
  },
  {
   "cell_type": "code",
   "execution_count": 40,
   "metadata": {},
   "outputs": [
    {
     "output_type": "display_data",
     "data": {
      "text/plain": "<Figure size 504x504 with 1 Axes>",
      "image/svg+xml": "<?xml version=\"1.0\" encoding=\"utf-8\" standalone=\"no\"?>\r\n<!DOCTYPE svg PUBLIC \"-//W3C//DTD SVG 1.1//EN\"\r\n  \"http://www.w3.org/Graphics/SVG/1.1/DTD/svg11.dtd\">\r\n<svg height=\"409.55625pt\" version=\"1.1\" viewBox=\"0 0 425.500585 409.55625\" width=\"425.500585pt\" xmlns=\"http://www.w3.org/2000/svg\" xmlns:xlink=\"http://www.w3.org/1999/xlink\">\r\n <metadata>\r\n  <rdf:RDF xmlns:cc=\"http://creativecommons.org/ns#\" xmlns:dc=\"http://purl.org/dc/elements/1.1/\" xmlns:rdf=\"http://www.w3.org/1999/02/22-rdf-syntax-ns#\">\r\n   <cc:Work>\r\n    <dc:type rdf:resource=\"http://purl.org/dc/dcmitype/StillImage\"/>\r\n    <dc:date>2021-06-25T16:43:30.170128</dc:date>\r\n    <dc:format>image/svg+xml</dc:format>\r\n    <dc:creator>\r\n     <cc:Agent>\r\n      <dc:title>Matplotlib v3.4.0, https://matplotlib.org/</dc:title>\r\n     </cc:Agent>\r\n    </dc:creator>\r\n   </cc:Work>\r\n  </rdf:RDF>\r\n </metadata>\r\n <defs>\r\n  <style type=\"text/css\">*{stroke-linecap:butt;stroke-linejoin:round;}</style>\r\n </defs>\r\n <g id=\"figure_1\">\r\n  <g id=\"patch_1\">\r\n   <path d=\"M 0 409.55625 \r\nL 425.500585 409.55625 \r\nL 425.500585 0 \r\nL 0 0 \r\nz\r\n\" style=\"fill:#ffffff;\"/>\r\n  </g>\r\n  <g id=\"axes_1\">\r\n   <g id=\"matplotlib.axis_1\"/>\r\n   <g id=\"matplotlib.axis_2\"/>\r\n   <g id=\"patch_2\">\r\n    <path d=\"M 221.559726 63.627854 \r\nC 195.476568 63.627854 169.826056 70.332474 147.079039 83.095873 \r\nC 124.332022 95.859273 105.243119 114.258035 91.651115 136.519853 \r\nC 78.05911 158.781671 70.414911 184.168024 69.454864 210.233508 \r\nC 68.494816 236.298991 74.25077 262.1789 86.168267 285.380288 \r\nC 98.085765 308.581675 115.769451 328.334851 137.515901 342.737039 \r\nC 159.262351 357.139228 184.35014 365.712648 210.362625 367.631441 \r\nC 236.375109 369.550235 262.449342 364.750748 286.073658 353.695304 \r\nC 309.697973 342.63986 330.08865 325.695215 345.281505 304.493604 \r\nL 221.559726 215.835854 \r\nL 221.559726 63.627854 \r\nz\r\n\" style=\"fill:#002600;opacity:0.5;stroke:#002600;stroke-linejoin:miter;\"/>\r\n   </g>\r\n   <g id=\"patch_3\">\r\n    <path d=\"M 346.635419 303.79816 \r\nC 362.935153 281.051902 372.650641 254.245133 374.709228 226.337504 \r\nC 376.767814 198.429874 371.090843 170.487692 358.305092 145.595964 \r\nC 345.519341 120.704236 326.113332 99.814037 302.229623 85.231788 \r\nC 278.345914 70.649539 250.897063 62.932405 222.913612 62.93241 \r\nL 222.91364 215.14041 \r\nL 346.635419 303.79816 \r\nz\r\n\" style=\"fill:#4c0000;opacity:0.5;stroke:#4c0000;stroke-linejoin:miter;\"/>\r\n   </g>\r\n   <g id=\"patch_4\">\r\n    <path d=\"M 224.603886 60.583694 \r\nC 198.520728 60.583694 172.870216 67.288314 150.123199 80.051713 \r\nC 127.376182 92.815113 108.287279 111.213875 94.695275 133.475693 \r\nC 81.10327 155.737511 73.459071 181.123864 72.499024 207.189348 \r\nC 71.538976 233.254831 77.29493 259.13474 89.212427 282.336128 \r\nC 101.129925 305.537515 118.813611 325.290691 140.560061 339.692879 \r\nC 162.306511 354.095068 187.3943 362.668488 213.406785 364.587281 \r\nC 239.419269 366.506075 265.493502 361.706588 289.117818 350.651144 \r\nC 312.742133 339.5957 333.13281 322.651055 348.325665 301.449444 \r\nL 224.603886 212.791694 \r\nL 224.603886 60.583694 \r\nz\r\n\" style=\"fill:#008000;stroke:#ffffff;stroke-linejoin:miter;\"/>\r\n   </g>\r\n   <g id=\"patch_5\">\r\n    <path d=\"M 349.679579 300.754 \r\nC 365.979313 278.007742 375.694801 251.200973 377.753388 223.293344 \r\nC 379.811974 195.385714 374.135003 167.443532 361.349252 142.551804 \r\nC 348.563501 117.660076 329.157492 96.769877 305.273783 82.187628 \r\nC 281.390074 67.605379 253.941223 59.888245 225.957772 59.88825 \r\nL 225.9578 212.09625 \r\nL 349.679579 300.754 \r\nz\r\n\" style=\"fill:#ff0000;stroke:#ffffff;stroke-linejoin:miter;\"/>\r\n   </g>\r\n   <g id=\"text_1\">\r\n    <!-- No Diabéticos -->\r\n    <g style=\"fill:#262626;\" transform=\"translate(7.2 292.134243)scale(0.11 -0.11)\">\r\n     <defs>\r\n      <path d=\"M 488 0 \r\nL 488 4581 \r\nL 1109 4581 \r\nL 3516 984 \r\nL 3516 4581 \r\nL 4097 4581 \r\nL 4097 0 \r\nL 3475 0 \r\nL 1069 3600 \r\nL 1069 0 \r\nL 488 0 \r\nz\r\n\" id=\"ArialMT-4e\" transform=\"scale(0.015625)\"/>\r\n      <path d=\"M 213 1659 \r\nQ 213 2581 725 3025 \r\nQ 1153 3394 1769 3394 \r\nQ 2453 3394 2887 2945 \r\nQ 3322 2497 3322 1706 \r\nQ 3322 1066 3130 698 \r\nQ 2938 331 2570 128 \r\nQ 2203 -75 1769 -75 \r\nQ 1072 -75 642 372 \r\nQ 213 819 213 1659 \r\nz\r\nM 791 1659 \r\nQ 791 1022 1069 705 \r\nQ 1347 388 1769 388 \r\nQ 2188 388 2466 706 \r\nQ 2744 1025 2744 1678 \r\nQ 2744 2294 2464 2611 \r\nQ 2184 2928 1769 2928 \r\nQ 1347 2928 1069 2612 \r\nQ 791 2297 791 1659 \r\nz\r\n\" id=\"ArialMT-6f\" transform=\"scale(0.015625)\"/>\r\n      <path id=\"ArialMT-20\" transform=\"scale(0.015625)\"/>\r\n      <path d=\"M 494 0 \r\nL 494 4581 \r\nL 2072 4581 \r\nQ 2606 4581 2888 4516 \r\nQ 3281 4425 3559 4188 \r\nQ 3922 3881 4101 3404 \r\nQ 4281 2928 4281 2316 \r\nQ 4281 1794 4159 1391 \r\nQ 4038 988 3847 723 \r\nQ 3656 459 3429 307 \r\nQ 3203 156 2883 78 \r\nQ 2563 0 2147 0 \r\nL 494 0 \r\nz\r\nM 1100 541 \r\nL 2078 541 \r\nQ 2531 541 2789 625 \r\nQ 3047 709 3200 863 \r\nQ 3416 1078 3536 1442 \r\nQ 3656 1806 3656 2325 \r\nQ 3656 3044 3420 3430 \r\nQ 3184 3816 2847 3947 \r\nQ 2603 4041 2063 4041 \r\nL 1100 4041 \r\nL 1100 541 \r\nz\r\n\" id=\"ArialMT-44\" transform=\"scale(0.015625)\"/>\r\n      <path d=\"M 425 3934 \r\nL 425 4581 \r\nL 988 4581 \r\nL 988 3934 \r\nL 425 3934 \r\nz\r\nM 425 0 \r\nL 425 3319 \r\nL 988 3319 \r\nL 988 0 \r\nL 425 0 \r\nz\r\n\" id=\"ArialMT-69\" transform=\"scale(0.015625)\"/>\r\n      <path d=\"M 2588 409 \r\nQ 2275 144 1986 34 \r\nQ 1697 -75 1366 -75 \r\nQ 819 -75 525 192 \r\nQ 231 459 231 875 \r\nQ 231 1119 342 1320 \r\nQ 453 1522 633 1644 \r\nQ 813 1766 1038 1828 \r\nQ 1203 1872 1538 1913 \r\nQ 2219 1994 2541 2106 \r\nQ 2544 2222 2544 2253 \r\nQ 2544 2597 2384 2738 \r\nQ 2169 2928 1744 2928 \r\nQ 1347 2928 1158 2789 \r\nQ 969 2650 878 2297 \r\nL 328 2372 \r\nQ 403 2725 575 2942 \r\nQ 747 3159 1072 3276 \r\nQ 1397 3394 1825 3394 \r\nQ 2250 3394 2515 3294 \r\nQ 2781 3194 2906 3042 \r\nQ 3031 2891 3081 2659 \r\nQ 3109 2516 3109 2141 \r\nL 3109 1391 \r\nQ 3109 606 3145 398 \r\nQ 3181 191 3288 0 \r\nL 2700 0 \r\nQ 2613 175 2588 409 \r\nz\r\nM 2541 1666 \r\nQ 2234 1541 1622 1453 \r\nQ 1275 1403 1131 1340 \r\nQ 988 1278 909 1158 \r\nQ 831 1038 831 891 \r\nQ 831 666 1001 516 \r\nQ 1172 366 1500 366 \r\nQ 1825 366 2078 508 \r\nQ 2331 650 2450 897 \r\nQ 2541 1088 2541 1459 \r\nL 2541 1666 \r\nz\r\n\" id=\"ArialMT-61\" transform=\"scale(0.015625)\"/>\r\n      <path d=\"M 941 0 \r\nL 419 0 \r\nL 419 4581 \r\nL 981 4581 \r\nL 981 2947 \r\nQ 1338 3394 1891 3394 \r\nQ 2197 3394 2470 3270 \r\nQ 2744 3147 2920 2923 \r\nQ 3097 2700 3197 2384 \r\nQ 3297 2069 3297 1709 \r\nQ 3297 856 2875 390 \r\nQ 2453 -75 1863 -75 \r\nQ 1275 -75 941 416 \r\nL 941 0 \r\nz\r\nM 934 1684 \r\nQ 934 1088 1097 822 \r\nQ 1363 388 1816 388 \r\nQ 2184 388 2453 708 \r\nQ 2722 1028 2722 1663 \r\nQ 2722 2313 2464 2622 \r\nQ 2206 2931 1841 2931 \r\nQ 1472 2931 1203 2611 \r\nQ 934 2291 934 1684 \r\nz\r\n\" id=\"ArialMT-62\" transform=\"scale(0.015625)\"/>\r\n      <path d=\"M 2694 1069 \r\nL 3275 997 \r\nQ 3138 488 2766 206 \r\nQ 2394 -75 1816 -75 \r\nQ 1088 -75 661 373 \r\nQ 234 822 234 1631 \r\nQ 234 2469 665 2931 \r\nQ 1097 3394 1784 3394 \r\nQ 2450 3394 2872 2941 \r\nQ 3294 2488 3294 1666 \r\nQ 3294 1616 3291 1516 \r\nL 816 1516 \r\nQ 847 969 1125 678 \r\nQ 1403 388 1819 388 \r\nQ 2128 388 2347 550 \r\nQ 2566 713 2694 1069 \r\nz\r\nM 847 1978 \r\nL 2700 1978 \r\nQ 2663 2397 2488 2606 \r\nQ 2219 2931 1791 2931 \r\nQ 1403 2931 1139 2672 \r\nQ 875 2413 847 1978 \r\nz\r\nM 1454 3731 \r\nL 1869 4606 \r\nL 2607 4606 \r\nL 1919 3731 \r\nL 1454 3731 \r\nz\r\n\" id=\"ArialMT-e9\" transform=\"scale(0.015625)\"/>\r\n      <path d=\"M 1650 503 \r\nL 1731 6 \r\nQ 1494 -44 1306 -44 \r\nQ 1000 -44 831 53 \r\nQ 663 150 594 308 \r\nQ 525 466 525 972 \r\nL 525 2881 \r\nL 113 2881 \r\nL 113 3319 \r\nL 525 3319 \r\nL 525 4141 \r\nL 1084 4478 \r\nL 1084 3319 \r\nL 1650 3319 \r\nL 1650 2881 \r\nL 1084 2881 \r\nL 1084 941 \r\nQ 1084 700 1114 631 \r\nQ 1144 563 1211 522 \r\nQ 1278 481 1403 481 \r\nQ 1497 481 1650 503 \r\nz\r\n\" id=\"ArialMT-74\" transform=\"scale(0.015625)\"/>\r\n      <path d=\"M 2588 1216 \r\nL 3141 1144 \r\nQ 3050 572 2676 248 \r\nQ 2303 -75 1759 -75 \r\nQ 1078 -75 664 370 \r\nQ 250 816 250 1647 \r\nQ 250 2184 428 2587 \r\nQ 606 2991 970 3192 \r\nQ 1334 3394 1763 3394 \r\nQ 2303 3394 2647 3120 \r\nQ 2991 2847 3088 2344 \r\nL 2541 2259 \r\nQ 2463 2594 2264 2762 \r\nQ 2066 2931 1784 2931 \r\nQ 1359 2931 1093 2626 \r\nQ 828 2322 828 1663 \r\nQ 828 994 1084 691 \r\nQ 1341 388 1753 388 \r\nQ 2084 388 2306 591 \r\nQ 2528 794 2588 1216 \r\nz\r\n\" id=\"ArialMT-63\" transform=\"scale(0.015625)\"/>\r\n      <path d=\"M 197 991 \r\nL 753 1078 \r\nQ 800 744 1014 566 \r\nQ 1228 388 1613 388 \r\nQ 2000 388 2187 545 \r\nQ 2375 703 2375 916 \r\nQ 2375 1106 2209 1216 \r\nQ 2094 1291 1634 1406 \r\nQ 1016 1563 777 1677 \r\nQ 538 1791 414 1992 \r\nQ 291 2194 291 2438 \r\nQ 291 2659 392 2848 \r\nQ 494 3038 669 3163 \r\nQ 800 3259 1026 3326 \r\nQ 1253 3394 1513 3394 \r\nQ 1903 3394 2198 3281 \r\nQ 2494 3169 2634 2976 \r\nQ 2775 2784 2828 2463 \r\nL 2278 2388 \r\nQ 2241 2644 2061 2787 \r\nQ 1881 2931 1553 2931 \r\nQ 1166 2931 1000 2803 \r\nQ 834 2675 834 2503 \r\nQ 834 2394 903 2306 \r\nQ 972 2216 1119 2156 \r\nQ 1203 2125 1616 2013 \r\nQ 2213 1853 2448 1751 \r\nQ 2684 1650 2818 1456 \r\nQ 2953 1263 2953 975 \r\nQ 2953 694 2789 445 \r\nQ 2625 197 2315 61 \r\nQ 2006 -75 1616 -75 \r\nQ 969 -75 630 194 \r\nQ 291 463 197 991 \r\nz\r\n\" id=\"ArialMT-73\" transform=\"scale(0.015625)\"/>\r\n     </defs>\r\n     <use xlink:href=\"#ArialMT-4e\"/>\r\n     <use x=\"72.216797\" xlink:href=\"#ArialMT-6f\"/>\r\n     <use x=\"127.832031\" xlink:href=\"#ArialMT-20\"/>\r\n     <use x=\"155.615234\" xlink:href=\"#ArialMT-44\"/>\r\n     <use x=\"227.832031\" xlink:href=\"#ArialMT-69\"/>\r\n     <use x=\"250.048828\" xlink:href=\"#ArialMT-61\"/>\r\n     <use x=\"305.664062\" xlink:href=\"#ArialMT-62\"/>\r\n     <use x=\"361.279297\" xlink:href=\"#ArialMT-e9\"/>\r\n     <use x=\"416.894531\" xlink:href=\"#ArialMT-74\"/>\r\n     <use x=\"444.677734\" xlink:href=\"#ArialMT-69\"/>\r\n     <use x=\"466.894531\" xlink:href=\"#ArialMT-63\"/>\r\n     <use x=\"516.894531\" xlink:href=\"#ArialMT-6f\"/>\r\n     <use x=\"572.509766\" xlink:href=\"#ArialMT-73\"/>\r\n    </g>\r\n   </g>\r\n   <g id=\"text_2\">\r\n    <!-- 65.1% -->\r\n    <g style=\"fill:#262626;\" transform=\"translate(126.357135 257.620542)scale(0.12 -0.12)\">\r\n     <defs>\r\n      <path d=\"M 3184 3459 \r\nL 2625 3416 \r\nQ 2550 3747 2413 3897 \r\nQ 2184 4138 1850 4138 \r\nQ 1581 4138 1378 3988 \r\nQ 1113 3794 959 3422 \r\nQ 806 3050 800 2363 \r\nQ 1003 2672 1297 2822 \r\nQ 1591 2972 1913 2972 \r\nQ 2475 2972 2870 2558 \r\nQ 3266 2144 3266 1488 \r\nQ 3266 1056 3080 686 \r\nQ 2894 316 2569 119 \r\nQ 2244 -78 1831 -78 \r\nQ 1128 -78 684 439 \r\nQ 241 956 241 2144 \r\nQ 241 3472 731 4075 \r\nQ 1159 4600 1884 4600 \r\nQ 2425 4600 2770 4297 \r\nQ 3116 3994 3184 3459 \r\nz\r\nM 888 1484 \r\nQ 888 1194 1011 928 \r\nQ 1134 663 1356 523 \r\nQ 1578 384 1822 384 \r\nQ 2178 384 2434 671 \r\nQ 2691 959 2691 1453 \r\nQ 2691 1928 2437 2201 \r\nQ 2184 2475 1800 2475 \r\nQ 1419 2475 1153 2201 \r\nQ 888 1928 888 1484 \r\nz\r\n\" id=\"ArialMT-36\" transform=\"scale(0.015625)\"/>\r\n      <path d=\"M 266 1200 \r\nL 856 1250 \r\nQ 922 819 1161 601 \r\nQ 1400 384 1738 384 \r\nQ 2144 384 2425 690 \r\nQ 2706 997 2706 1503 \r\nQ 2706 1984 2436 2262 \r\nQ 2166 2541 1728 2541 \r\nQ 1456 2541 1237 2417 \r\nQ 1019 2294 894 2097 \r\nL 366 2166 \r\nL 809 4519 \r\nL 3088 4519 \r\nL 3088 3981 \r\nL 1259 3981 \r\nL 1013 2750 \r\nQ 1425 3038 1878 3038 \r\nQ 2478 3038 2890 2622 \r\nQ 3303 2206 3303 1553 \r\nQ 3303 931 2941 478 \r\nQ 2500 -78 1738 -78 \r\nQ 1113 -78 717 272 \r\nQ 322 622 266 1200 \r\nz\r\n\" id=\"ArialMT-35\" transform=\"scale(0.015625)\"/>\r\n      <path d=\"M 581 0 \r\nL 581 641 \r\nL 1222 641 \r\nL 1222 0 \r\nL 581 0 \r\nz\r\n\" id=\"ArialMT-2e\" transform=\"scale(0.015625)\"/>\r\n      <path d=\"M 2384 0 \r\nL 1822 0 \r\nL 1822 3584 \r\nQ 1619 3391 1289 3197 \r\nQ 959 3003 697 2906 \r\nL 697 3450 \r\nQ 1169 3672 1522 3987 \r\nQ 1875 4303 2022 4600 \r\nL 2384 4600 \r\nL 2384 0 \r\nz\r\n\" id=\"ArialMT-31\" transform=\"scale(0.015625)\"/>\r\n      <path d=\"M 372 3481 \r\nQ 372 3972 619 4315 \r\nQ 866 4659 1334 4659 \r\nQ 1766 4659 2048 4351 \r\nQ 2331 4044 2331 3447 \r\nQ 2331 2866 2045 2552 \r\nQ 1759 2238 1341 2238 \r\nQ 925 2238 648 2547 \r\nQ 372 2856 372 3481 \r\nz\r\nM 1350 4272 \r\nQ 1141 4272 1002 4090 \r\nQ 863 3909 863 3425 \r\nQ 863 2984 1003 2804 \r\nQ 1144 2625 1350 2625 \r\nQ 1563 2625 1702 2806 \r\nQ 1841 2988 1841 3469 \r\nQ 1841 3913 1700 4092 \r\nQ 1559 4272 1350 4272 \r\nz\r\nM 1353 -169 \r\nL 3859 4659 \r\nL 4316 4659 \r\nL 1819 -169 \r\nL 1353 -169 \r\nz\r\nM 3334 1075 \r\nQ 3334 1569 3581 1911 \r\nQ 3828 2253 4300 2253 \r\nQ 4731 2253 5014 1945 \r\nQ 5297 1638 5297 1041 \r\nQ 5297 459 5011 145 \r\nQ 4725 -169 4303 -169 \r\nQ 3888 -169 3611 142 \r\nQ 3334 453 3334 1075 \r\nz\r\nM 4316 1866 \r\nQ 4103 1866 3964 1684 \r\nQ 3825 1503 3825 1019 \r\nQ 3825 581 3965 400 \r\nQ 4106 219 4313 219 \r\nQ 4528 219 4667 400 \r\nQ 4806 581 4806 1063 \r\nQ 4806 1506 4665 1686 \r\nQ 4525 1866 4316 1866 \r\nz\r\n\" id=\"ArialMT-25\" transform=\"scale(0.015625)\"/>\r\n     </defs>\r\n     <use xlink:href=\"#ArialMT-36\"/>\r\n     <use x=\"55.615234\" xlink:href=\"#ArialMT-35\"/>\r\n     <use x=\"111.230469\" xlink:href=\"#ArialMT-2e\"/>\r\n     <use x=\"139.013672\" xlink:href=\"#ArialMT-31\"/>\r\n     <use x=\"194.628906\" xlink:href=\"#ArialMT-25\"/>\r\n    </g>\r\n   </g>\r\n   <g id=\"text_3\">\r\n    <!-- Diabétos -->\r\n    <g style=\"fill:#262626;\" transform=\"translate(374.888397 138.441031)scale(0.11 -0.11)\">\r\n     <use xlink:href=\"#ArialMT-44\"/>\r\n     <use x=\"72.216797\" xlink:href=\"#ArialMT-69\"/>\r\n     <use x=\"94.433594\" xlink:href=\"#ArialMT-61\"/>\r\n     <use x=\"150.048828\" xlink:href=\"#ArialMT-62\"/>\r\n     <use x=\"205.664062\" xlink:href=\"#ArialMT-e9\"/>\r\n     <use x=\"261.279297\" xlink:href=\"#ArialMT-74\"/>\r\n     <use x=\"289.0625\" xlink:href=\"#ArialMT-6f\"/>\r\n     <use x=\"344.677734\" xlink:href=\"#ArialMT-73\"/>\r\n    </g>\r\n   </g>\r\n   <g id=\"text_4\">\r\n    <!-- 34.9% -->\r\n    <g style=\"fill:#262626;\" transform=\"translate(290.180796 173.47177)scale(0.12 -0.12)\">\r\n     <defs>\r\n      <path d=\"M 269 1209 \r\nL 831 1284 \r\nQ 928 806 1161 595 \r\nQ 1394 384 1728 384 \r\nQ 2125 384 2398 659 \r\nQ 2672 934 2672 1341 \r\nQ 2672 1728 2419 1979 \r\nQ 2166 2231 1775 2231 \r\nQ 1616 2231 1378 2169 \r\nL 1441 2663 \r\nQ 1497 2656 1531 2656 \r\nQ 1891 2656 2178 2843 \r\nQ 2466 3031 2466 3422 \r\nQ 2466 3731 2256 3934 \r\nQ 2047 4138 1716 4138 \r\nQ 1388 4138 1169 3931 \r\nQ 950 3725 888 3313 \r\nL 325 3413 \r\nQ 428 3978 793 4289 \r\nQ 1159 4600 1703 4600 \r\nQ 2078 4600 2393 4439 \r\nQ 2709 4278 2876 4000 \r\nQ 3044 3722 3044 3409 \r\nQ 3044 3113 2884 2869 \r\nQ 2725 2625 2413 2481 \r\nQ 2819 2388 3044 2092 \r\nQ 3269 1797 3269 1353 \r\nQ 3269 753 2831 336 \r\nQ 2394 -81 1725 -81 \r\nQ 1122 -81 723 278 \r\nQ 325 638 269 1209 \r\nz\r\n\" id=\"ArialMT-33\" transform=\"scale(0.015625)\"/>\r\n      <path d=\"M 2069 0 \r\nL 2069 1097 \r\nL 81 1097 \r\nL 81 1613 \r\nL 2172 4581 \r\nL 2631 4581 \r\nL 2631 1613 \r\nL 3250 1613 \r\nL 3250 1097 \r\nL 2631 1097 \r\nL 2631 0 \r\nL 2069 0 \r\nz\r\nM 2069 1613 \r\nL 2069 3678 \r\nL 634 1613 \r\nL 2069 1613 \r\nz\r\n\" id=\"ArialMT-34\" transform=\"scale(0.015625)\"/>\r\n      <path d=\"M 350 1059 \r\nL 891 1109 \r\nQ 959 728 1153 556 \r\nQ 1347 384 1650 384 \r\nQ 1909 384 2104 503 \r\nQ 2300 622 2425 820 \r\nQ 2550 1019 2634 1356 \r\nQ 2719 1694 2719 2044 \r\nQ 2719 2081 2716 2156 \r\nQ 2547 1888 2255 1720 \r\nQ 1963 1553 1622 1553 \r\nQ 1053 1553 659 1965 \r\nQ 266 2378 266 3053 \r\nQ 266 3750 677 4175 \r\nQ 1088 4600 1706 4600 \r\nQ 2153 4600 2523 4359 \r\nQ 2894 4119 3086 3673 \r\nQ 3278 3228 3278 2384 \r\nQ 3278 1506 3087 986 \r\nQ 2897 466 2520 194 \r\nQ 2144 -78 1638 -78 \r\nQ 1100 -78 759 220 \r\nQ 419 519 350 1059 \r\nz\r\nM 2653 3081 \r\nQ 2653 3566 2395 3850 \r\nQ 2138 4134 1775 4134 \r\nQ 1400 4134 1122 3828 \r\nQ 844 3522 844 3034 \r\nQ 844 2597 1108 2323 \r\nQ 1372 2050 1759 2050 \r\nQ 2150 2050 2401 2323 \r\nQ 2653 2597 2653 3081 \r\nz\r\n\" id=\"ArialMT-39\" transform=\"scale(0.015625)\"/>\r\n     </defs>\r\n     <use xlink:href=\"#ArialMT-33\"/>\r\n     <use x=\"55.615234\" xlink:href=\"#ArialMT-34\"/>\r\n     <use x=\"111.230469\" xlink:href=\"#ArialMT-2e\"/>\r\n     <use x=\"139.013672\" xlink:href=\"#ArialMT-39\"/>\r\n     <use x=\"194.628906\" xlink:href=\"#ArialMT-25\"/>\r\n    </g>\r\n   </g>\r\n   <g id=\"text_5\">\r\n    <!-- Porcentaje de diabéticos. -->\r\n    <g style=\"fill:#262626;\" transform=\"translate(158.5853 15.83625)scale(0.12 -0.12)\">\r\n     <defs>\r\n      <path d=\"M 494 0 \r\nL 494 4581 \r\nL 2222 4581 \r\nQ 2678 4581 2919 4538 \r\nQ 3256 4481 3484 4323 \r\nQ 3713 4166 3852 3881 \r\nQ 3991 3597 3991 3256 \r\nQ 3991 2672 3619 2267 \r\nQ 3247 1863 2275 1863 \r\nL 1100 1863 \r\nL 1100 0 \r\nL 494 0 \r\nz\r\nM 1100 2403 \r\nL 2284 2403 \r\nQ 2872 2403 3119 2622 \r\nQ 3366 2841 3366 3238 \r\nQ 3366 3525 3220 3729 \r\nQ 3075 3934 2838 4000 \r\nQ 2684 4041 2272 4041 \r\nL 1100 4041 \r\nL 1100 2403 \r\nz\r\n\" id=\"ArialMT-50\" transform=\"scale(0.015625)\"/>\r\n      <path d=\"M 416 0 \r\nL 416 3319 \r\nL 922 3319 \r\nL 922 2816 \r\nQ 1116 3169 1280 3281 \r\nQ 1444 3394 1641 3394 \r\nQ 1925 3394 2219 3213 \r\nL 2025 2691 \r\nQ 1819 2813 1613 2813 \r\nQ 1428 2813 1281 2702 \r\nQ 1134 2591 1072 2394 \r\nQ 978 2094 978 1738 \r\nL 978 0 \r\nL 416 0 \r\nz\r\n\" id=\"ArialMT-72\" transform=\"scale(0.015625)\"/>\r\n      <path d=\"M 2694 1069 \r\nL 3275 997 \r\nQ 3138 488 2766 206 \r\nQ 2394 -75 1816 -75 \r\nQ 1088 -75 661 373 \r\nQ 234 822 234 1631 \r\nQ 234 2469 665 2931 \r\nQ 1097 3394 1784 3394 \r\nQ 2450 3394 2872 2941 \r\nQ 3294 2488 3294 1666 \r\nQ 3294 1616 3291 1516 \r\nL 816 1516 \r\nQ 847 969 1125 678 \r\nQ 1403 388 1819 388 \r\nQ 2128 388 2347 550 \r\nQ 2566 713 2694 1069 \r\nz\r\nM 847 1978 \r\nL 2700 1978 \r\nQ 2663 2397 2488 2606 \r\nQ 2219 2931 1791 2931 \r\nQ 1403 2931 1139 2672 \r\nQ 875 2413 847 1978 \r\nz\r\n\" id=\"ArialMT-65\" transform=\"scale(0.015625)\"/>\r\n      <path d=\"M 422 0 \r\nL 422 3319 \r\nL 928 3319 \r\nL 928 2847 \r\nQ 1294 3394 1984 3394 \r\nQ 2284 3394 2536 3286 \r\nQ 2788 3178 2913 3003 \r\nQ 3038 2828 3088 2588 \r\nQ 3119 2431 3119 2041 \r\nL 3119 0 \r\nL 2556 0 \r\nL 2556 2019 \r\nQ 2556 2363 2490 2533 \r\nQ 2425 2703 2258 2804 \r\nQ 2091 2906 1866 2906 \r\nQ 1506 2906 1245 2678 \r\nQ 984 2450 984 1813 \r\nL 984 0 \r\nL 422 0 \r\nz\r\n\" id=\"ArialMT-6e\" transform=\"scale(0.015625)\"/>\r\n      <path d=\"M 419 3928 \r\nL 419 4581 \r\nL 981 4581 \r\nL 981 3928 \r\nL 419 3928 \r\nz\r\nM -294 -1288 \r\nL -188 -809 \r\nQ -19 -853 78 -853 \r\nQ 250 -853 334 -739 \r\nQ 419 -625 419 -169 \r\nL 419 3319 \r\nL 981 3319 \r\nL 981 -181 \r\nQ 981 -794 822 -1034 \r\nQ 619 -1347 147 -1347 \r\nQ -81 -1347 -294 -1288 \r\nz\r\n\" id=\"ArialMT-6a\" transform=\"scale(0.015625)\"/>\r\n      <path d=\"M 2575 0 \r\nL 2575 419 \r\nQ 2259 -75 1647 -75 \r\nQ 1250 -75 917 144 \r\nQ 584 363 401 755 \r\nQ 219 1147 219 1656 \r\nQ 219 2153 384 2558 \r\nQ 550 2963 881 3178 \r\nQ 1213 3394 1622 3394 \r\nQ 1922 3394 2156 3267 \r\nQ 2391 3141 2538 2938 \r\nL 2538 4581 \r\nL 3097 4581 \r\nL 3097 0 \r\nL 2575 0 \r\nz\r\nM 797 1656 \r\nQ 797 1019 1065 703 \r\nQ 1334 388 1700 388 \r\nQ 2069 388 2326 689 \r\nQ 2584 991 2584 1609 \r\nQ 2584 2291 2321 2609 \r\nQ 2059 2928 1675 2928 \r\nQ 1300 2928 1048 2622 \r\nQ 797 2316 797 1656 \r\nz\r\n\" id=\"ArialMT-64\" transform=\"scale(0.015625)\"/>\r\n     </defs>\r\n     <use xlink:href=\"#ArialMT-50\"/>\r\n     <use x=\"66.699219\" xlink:href=\"#ArialMT-6f\"/>\r\n     <use x=\"122.314453\" xlink:href=\"#ArialMT-72\"/>\r\n     <use x=\"155.615234\" xlink:href=\"#ArialMT-63\"/>\r\n     <use x=\"205.615234\" xlink:href=\"#ArialMT-65\"/>\r\n     <use x=\"261.230469\" xlink:href=\"#ArialMT-6e\"/>\r\n     <use x=\"316.845703\" xlink:href=\"#ArialMT-74\"/>\r\n     <use x=\"344.628906\" xlink:href=\"#ArialMT-61\"/>\r\n     <use x=\"400.244141\" xlink:href=\"#ArialMT-6a\"/>\r\n     <use x=\"422.460938\" xlink:href=\"#ArialMT-65\"/>\r\n     <use x=\"478.076172\" xlink:href=\"#ArialMT-20\"/>\r\n     <use x=\"505.859375\" xlink:href=\"#ArialMT-64\"/>\r\n     <use x=\"561.474609\" xlink:href=\"#ArialMT-65\"/>\r\n     <use x=\"617.089844\" xlink:href=\"#ArialMT-20\"/>\r\n     <use x=\"644.873047\" xlink:href=\"#ArialMT-64\"/>\r\n     <use x=\"700.488281\" xlink:href=\"#ArialMT-69\"/>\r\n     <use x=\"722.705078\" xlink:href=\"#ArialMT-61\"/>\r\n     <use x=\"778.320312\" xlink:href=\"#ArialMT-62\"/>\r\n     <use x=\"833.935547\" xlink:href=\"#ArialMT-e9\"/>\r\n     <use x=\"889.550781\" xlink:href=\"#ArialMT-74\"/>\r\n     <use x=\"917.333984\" xlink:href=\"#ArialMT-69\"/>\r\n     <use x=\"939.550781\" xlink:href=\"#ArialMT-63\"/>\r\n     <use x=\"989.550781\" xlink:href=\"#ArialMT-6f\"/>\r\n     <use x=\"1045.166016\" xlink:href=\"#ArialMT-73\"/>\r\n     <use x=\"1095.166016\" xlink:href=\"#ArialMT-2e\"/>\r\n    </g>\r\n   </g>\r\n  </g>\r\n </g>\r\n</svg>\r\n",
      "image/png": "[encoded data removed]"
     },
     "metadata": {}
    }
   ],
   "source": [
    "sns.set(style=\"whitegrid\")\n",
    "labels = ['No Diabéticos', 'Diabétos']\n",
    "sizes = [healthy_people_num,sick_people_num]\n",
    "colors = [\"green\",\"red\"]\n",
    "plt.figure(figsize=(7,7))\n",
    "plt.pie(sizes, labels=labels, explode= (0.01,0) , colors=colors, autopct='%1.1f%%', shadow=True, startangle=90,)\n",
    "\n",
    "plt.title('Porcentaje de diabéticos.')\n",
    "plt.show()"
   ]
  },
  {
   "source": [
    "A partir del gráfico anterior se distingue que el grupo de casos con diabetes versus los casos de no diabetes no se encuentra balanceado. Es decir, en nuestro dataframe hay mayor cantidad de personas sanas que con diabetes."
   ],
   "cell_type": "markdown",
   "metadata": {}
  },
  {
   "source": [
    "### Limpieza de los datos\n",
    "\n",
    "Anteriormente, se consideró la gran cantidad de datos que tiene valor cero. Para tratar con estos datos, se los reemplaza en primera medida por valores nulos (NaN) y posteriormente serán modificados."
   ],
   "cell_type": "markdown",
   "metadata": {}
  },
  {
   "cell_type": "code",
   "execution_count": 41,
   "metadata": {},
   "outputs": [],
   "source": [
    "df[['Glucose','BloodPressure','SkinThickness','Insulin','BMI']] = df[['Glucose','BloodPressure','SkinThickness','Insulin','BMI']].replace(0,np.NaN)"
   ]
  },
  {
   "source": [
    "Ahora, se cuenta la cantidad de elementos nulos para cada columna. Estos son aquellos elementos que anteriormente valían cero, un valor que no era posible."
   ],
   "cell_type": "markdown",
   "metadata": {}
  },
  {
   "cell_type": "code",
   "execution_count": 42,
   "metadata": {},
   "outputs": [
    {
     "output_type": "execute_result",
     "data": {
      "text/plain": [
       "Pregnancies                   0\n",
       "Glucose                       5\n",
       "BloodPressure                35\n",
       "SkinThickness               227\n",
       "Insulin                     374\n",
       "BMI                          11\n",
       "DiabetesPedigreeFunction      0\n",
       "Age                           0\n",
       "Outcome                       0\n",
       "dtype: int64"
      ]
     },
     "metadata": {},
     "execution_count": 42
    }
   ],
   "source": [
    "df.isnull().sum()"
   ]
  },
  {
   "source": [
    "### Separación Train y Test"
   ],
   "cell_type": "markdown",
   "metadata": {}
  },
  {
   "cell_type": "code",
   "execution_count": 43,
   "metadata": {},
   "outputs": [],
   "source": [
    "np.random.seed(0)\n",
    "msk = np.random.rand(len(df)) < 0.8\n",
    "train_val_df = df[msk]\n",
    "test_data = df[~msk]"
   ]
  },
  {
   "source": [
    "### Definición de funciones"
   ],
   "cell_type": "markdown",
   "metadata": {}
  },
  {
   "cell_type": "code",
   "execution_count": 44,
   "metadata": {},
   "outputs": [],
   "source": [
    "import math\n",
    "\n",
    "def calculate_gaussian_likelihood(x, mean_std):\n",
    "\t\"\"\"\n",
    "\tDevuelve el likelihood asociado a una variable dado una media y un desvío estándar.\n",
    "\tRecibe:\n",
    "\t\t1. x: valor de la variable.\n",
    "\t\t2. mean_std: tupla, lista o np array cuyo primer elemento corresponde a la media y su segundo elemento al desvío estándar.\n",
    "\t\"\"\"\n",
    "\tmean = mean_std[0]\n",
    "\tstdev = mean_std[1]\n",
    "\texponent = math.exp(-((x-mean)**2 / (2 * stdev**2 )))\n",
    "\treturn (1 / (math.sqrt(2 * math.pi) * stdev)) * exponent"
   ]
  },
  {
   "cell_type": "code",
   "execution_count": 45,
   "metadata": {},
   "outputs": [],
   "source": [
    "def calculate_mean_std(set_df, column, outcome):\n",
    "    \"\"\"\n",
    "    Calcula la media y el desvío estándar de una columna de un dataframe para aquellas filas donde el outcome tome un valor determinado.\n",
    "    Recibe: \n",
    "        1. set_df: Dataframe.\n",
    "        2. column: Nombre de la columna cuyas media y stdev se buscan.\n",
    "        3. outcome: Valor del outcome sobre el cual se filtra el data set.\n",
    "    Devuelve:\n",
    "        np array cuyo primer elemento es la media y el segundo elemento el desvío estándar.\n",
    "    \"\"\"\n",
    "    filtered_df = set_df[[column, 'Outcome']].groupby(['Outcome'])[[column]]\n",
    "    mean = filtered_df.mean().reset_index().iloc[outcome,1]\n",
    "    std = filtered_df.std().reset_index().iloc[outcome,1]\n",
    "    return np.array([mean, std])"
   ]
  },
  {
   "cell_type": "code",
   "execution_count": 46,
   "metadata": {},
   "outputs": [],
   "source": [
    "def train_model(train_df):\n",
    "    \"\"\"\n",
    "    Función que entrena al modelo dado un DataFrame de entrenamiento.\n",
    "    Recibe:\n",
    "        1. train_df: DF de entrenamiento.\n",
    "    Devuelve:\n",
    "        *   Matriz de 2 x {Cantidad de columnas del dataframe - 1}.\n",
    "            Cada celda de la matriz contiene un np array cuyo primer elemento es la media y el segundo elemento el desvío estándar para cada columna y para cada posible outcome.\n",
    "            La primera fila de la matriz corresponde al outcome 0 y la segunda fila al outcome 1.\n",
    "            Cada columna de la matriz está asociada a cada columna del dataframe (excepto la columna de outcome).\n",
    "        *   Priori_probs: Lista con las probabilidades a priori para outcome 0 y outcome 1.\n",
    "    \"\"\"\n",
    "    healthy_p_train = (train_df['Outcome'] == 0).sum()\n",
    "    sick_p_train = (train_df['Outcome'] != 0).sum()\n",
    "    total = train_df.shape[0]\n",
    "    priori_probs = [healthy_p_train / (healthy_p_train + sick_p_train), sick_p_train / (healthy_p_train + sick_p_train)]\n",
    "    train_matrix =  np.empty([2, len(train_df.columns)-1], dtype = object)\n",
    "    for ind, column in enumerate(train_df.columns):\n",
    "        if (ind != train_df.columns.get_loc(\"Outcome\")):\n",
    "            train_matrix[0][ind] = calculate_mean_std(train_df, train_df.columns[ind], 0)\n",
    "            train_matrix[1][ind] = calculate_mean_std(train_df, train_df.columns[ind], 1)\n",
    "    return train_matrix, priori_probs"
   ]
  },
  {
   "cell_type": "code",
   "execution_count": 47,
   "metadata": {},
   "outputs": [],
   "source": [
    "def pred(row, matrix, priori_probs):\n",
    "    \"\"\"\n",
    "    Función que dada una fila correspondiente a una muestra de un individuo, una matriz entrenada (con los valores de las medias y desvíos estándar) y las probabilidad a priori de cada outcome, calcula si es más probable que el individuo posea diabetes o no.\n",
    "    Recibe:\n",
    "        1. Row: Fila con los valores de las características de un individuo. Cada elemento está asociado a una columna del dataframe de entrenamiento utilizado.\n",
    "        2. Matrix: Matriz resultante de la función train_model.\n",
    "        3. Priori_probs: Lista con las probabilidades a priori para outcome 0 y outcome 1.\n",
    "    Devuelve:\n",
    "        Valor (0 o 1) más probable para el outcome.\n",
    "    \"\"\"\n",
    "    likelihoods_0 = np.array([])\n",
    "    likelihoods_1 = np.array([])\n",
    "    for ind, column in enumerate(row):\n",
    "        likelihoods_0 = np.append(likelihoods_0, math.log(calculate_gaussian_likelihood(column, matrix[0][ind])))\n",
    "        likelihoods_1 = np.append(likelihoods_1, math.log(calculate_gaussian_likelihood(column, matrix[1][ind])))\n",
    "    prob_0 = likelihoods_0.sum()\n",
    "    prob_1 = likelihoods_1.sum()\n",
    "    prob_0 += math.log(priori_probs[0])\n",
    "    prob_1 += math.log(priori_probs[1])\n",
    "    if(prob_1 >= prob_0):\n",
    "        return 1.0\n",
    "    else:\n",
    "        return 0.0"
   ]
  },
  {
   "cell_type": "code",
   "execution_count": 48,
   "metadata": {},
   "outputs": [],
   "source": [
    "from sklearn import metrics\n",
    "import numpy as np\n",
    "from sklearn.model_selection import KFold\n",
    "def k_folding(df, columnsToReplaceNulls = [], removeCols = []):\n",
    "    \"\"\"\n",
    "    Función que dado un dataframe realiza un k-folding con k=5.\n",
    "    Recibe:\n",
    "        Dataframe\n",
    "    Devuelve:\n",
    "        Lista que contiene a las matrices de confusión para cada k_i paso.\n",
    "    \"\"\"\n",
    "    dataframe = df.copy()\n",
    "    kf = KFold(n_splits = 5)\n",
    "    sub_sets = kf.split(dataframe)\n",
    "    conf_matrix = []\n",
    "    train_aucs = []\n",
    "    val_aucs = []\n",
    "    models = []\n",
    "    replaceNullsCols = [n for n in columnsToReplaceNulls if n not in removeCols]\n",
    "    dataframe = dataframe.drop(removeCols, axis=1)\n",
    "\n",
    "    for train_index, val_index in sub_sets: \n",
    "        train_outcomes = []\n",
    "        val_outcomes = []\n",
    "        pred_train_outcomes = []\n",
    "        pred_val_outcomes = []\n",
    "        train_df = dataframe.iloc[train_index]\n",
    "        val_df = dataframe.iloc[val_index]\n",
    "\n",
    "        ##Reemplazo nulos\n",
    "        medians = train_df[replaceNullsCols].median()\n",
    "        train_df[replaceNullsCols] = train_df[replaceNullsCols].replace(np.NaN,medians)\n",
    "        val_df[replaceNullsCols] = val_df[replaceNullsCols].replace(np.NaN,medians)\n",
    "\n",
    "        matrix_train, priori_probs = train_model(train_df)\n",
    "        model =[medians, matrix_train, priori_probs]\n",
    "        models.append(model)\n",
    "        ## Train\n",
    "        for index, row in train_df.iterrows():\n",
    "            true_outcome = row[\"Outcome\"]\n",
    "            pred_outcome = pred(row.to_list()[:-1], matrix_train, priori_probs)\n",
    "            train_outcomes.append(true_outcome)\n",
    "            pred_train_outcomes.append(pred_outcome)\n",
    "\n",
    "        ## Validacion\n",
    "        for index, row in val_df.iterrows():\n",
    "            true_outcome = row[\"Outcome\"]\n",
    "            pred_outcome = pred(row.to_list()[:-1], matrix_train, priori_probs)\n",
    "            val_outcomes.append(true_outcome)\n",
    "            pred_val_outcomes.append(pred_outcome)\n",
    "\n",
    "        fpr_train, tpr_train, thresholds_train = metrics.roc_curve(train_outcomes, pred_train_outcomes)\n",
    "        auc_train_i = metrics.auc(fpr_train, tpr_train)\n",
    "\n",
    "        fpr_val, tpr_val, thresholds_val = metrics.roc_curve(val_outcomes, pred_val_outcomes)\n",
    "        auc_val_i = metrics.auc(fpr_val, tpr_val)\n",
    "\n",
    "        val_aucs.append(auc_val_i)\n",
    "        train_aucs.append(auc_train_i)\n",
    "        \n",
    "        conf_matrix.append(metrics.confusion_matrix(val_outcomes, pred_val_outcomes))\n",
    "    return conf_matrix, train_aucs, val_aucs, models\n"
   ]
  },
  {
   "cell_type": "code",
   "execution_count": 49,
   "metadata": {},
   "outputs": [],
   "source": [
    "def plot_all_conf_matrix(conf_matrix):\n",
    "    \"\"\"\n",
    "    Función que dada una lista de matrices de confusión, realiza el gráfico para cada una de ellas.\n",
    "    \"\"\"\n",
    "    for matrix in conf_matrix:\n",
    "        ylabel = [\"Actual [Non-Diabetic]\",\"Actual [Diabetic]\"]\n",
    "        xlabel = [\"Pred [Non-Diabetic]\",\"Pred [Diabetic]\"]\n",
    "        sns.set(font_scale = 1.5)\n",
    "        plt.figure(figsize=(15,6))\n",
    "        sns.heatmap(matrix, annot=True, xticklabels = xlabel, yticklabels = ylabel, linecolor='white', linewidths=1)\n",
    "        plt.yticks(rotation=0);"
   ]
  },
  {
   "source": [
    "## Pruebas\n",
    "### Sin reemplazar nulos"
   ],
   "cell_type": "markdown",
   "metadata": {}
  },
  {
   "cell_type": "code",
   "execution_count": 50,
   "metadata": {},
   "outputs": [],
   "source": [
    "conf_matrix_nr, train_aucs_nr, val_aucs_nr, models_nr = k_folding(train_val_df)"
   ]
  },
  {
   "cell_type": "code",
   "execution_count": 51,
   "metadata": {},
   "outputs": [
    {
     "output_type": "stream",
     "name": "stdout",
     "text": [
      "AUC Train: 0.623\nAUC Validation: 0.63\n"
     ]
    }
   ],
   "source": [
    "print('AUC Train: ' + str(round(np.array(train_aucs_nr).mean(),3)))\n",
    "print('AUC Validation: ' + str(round(np.array(val_aucs_nr).mean(),3)))"
   ]
  },
  {
   "source": [
    "### Reemplazando nulos"
   ],
   "cell_type": "markdown",
   "metadata": {}
  },
  {
   "cell_type": "code",
   "execution_count": 52,
   "metadata": {},
   "outputs": [],
   "source": [
    "conf_matrix, train_aucs, val_aucs, models = k_folding(train_val_df,  ['Glucose','BloodPressure','SkinThickness','Insulin','BMI'])"
   ]
  },
  {
   "cell_type": "code",
   "execution_count": 53,
   "metadata": {},
   "outputs": [
    {
     "output_type": "stream",
     "name": "stdout",
     "text": [
      "AUC Train: 0.727\nAUC Validation: 0.73\n"
     ]
    }
   ],
   "source": [
    "print('AUC Train: ' + str(round(np.array(train_aucs).mean(),3)))\n",
    "print('AUC Validation: ' + str(round(np.array(val_aucs).mean(),3)))"
   ]
  },
  {
   "source": [
    "### Eliminando columnas"
   ],
   "cell_type": "markdown",
   "metadata": {}
  },
  {
   "cell_type": "code",
   "execution_count": 54,
   "metadata": {},
   "outputs": [
    {
     "output_type": "stream",
     "name": "stdout",
     "text": [
      "BloodPressure\n",
      "Insulin\n",
      "Age\n",
      "DiabetesPedigreeFunction\n",
      "Pregnancies\n",
      "SkinThickness\n"
     ]
    }
   ],
   "source": [
    "bestAuc = np.array(val_aucs).mean()\n",
    "# Columnas a analizar\n",
    "tryRemovingCols = ['BloodPressure', 'Insulin', 'Age', 'DiabetesPedigreeFunction', 'Pregnancies', 'SkinThickness']\n",
    "removeColsImproved = []\n",
    "removeColsAuc = []\n",
    "removeColsAucTrain = []\n",
    "\n",
    "nullCols = ['Glucose','BloodPressure','SkinThickness','Insulin','BMI']\n",
    "\t\t\n",
    "for col in tryRemovingCols:\n",
    "\tprint(col)\t\n",
    "\tconf_matrix_col, train_aucs_col, val_aucs_col, models_col = k_folding(train_val_df, columnsToReplaceNulls=nullCols, removeCols=[col])\n",
    "\t# Si la métrica mejora se guarda la columna a remover.\n",
    "\tif (np.array(val_aucs_col).mean() > bestAuc):\n",
    "\t\tremoveColsImproved.append(col)\n",
    "\t\tremoveColsAucTrain.append(np.array(train_aucs_col).mean())\n",
    "\t\tremoveColsAuc.append(np.array(val_aucs_col).mean())"
   ]
  },
  {
   "cell_type": "code",
   "execution_count": 55,
   "metadata": {},
   "outputs": [
    {
     "output_type": "stream",
     "name": "stdout",
     "text": [
      "['BloodPressure', 'SkinThickness']\nTrain AUCs:\n[0.728 0.732]\nVal AUCs:\n[0.731 0.731]\n"
     ]
    }
   ],
   "source": [
    "# Se imprimen las columnas que al removerlas aumentaron la métrica.\n",
    "print(removeColsImproved)\n",
    "print(\"Train AUCs:\")\n",
    "print(np.array(removeColsAucTrain).round(3))\n",
    "print('Val AUCs:')\n",
    "print(np.array(removeColsAuc).round(3))"
   ]
  },
  {
   "source": [
    "### Eliminando todas las columnas anteriores"
   ],
   "cell_type": "markdown",
   "metadata": {}
  },
  {
   "cell_type": "code",
   "execution_count": 56,
   "metadata": {},
   "outputs": [],
   "source": [
    "conf_matrix_rac, train_aucs_rac, val_aucs_rac, models_rac = k_folding(train_val_df,  ['Glucose','BloodPressure','SkinThickness','Insulin','BMI'], removeCols=removeColsImproved)"
   ]
  },
  {
   "cell_type": "code",
   "execution_count": 57,
   "metadata": {},
   "outputs": [
    {
     "output_type": "stream",
     "name": "stdout",
     "text": [
      "AUC Train: 0.73\nAUC Validation: 0.736\n"
     ]
    }
   ],
   "source": [
    "print('AUC Train: ' + str(round(np.array(train_aucs_rac).mean(),3)))\n",
    "print('AUC Validation: ' + str(round(np.array(val_aucs_rac).mean(),3)))"
   ]
  },
  {
   "source": [
    "## Selección del modelo"
   ],
   "cell_type": "markdown",
   "metadata": {}
  },
  {
   "cell_type": "code",
   "execution_count": 69,
   "metadata": {},
   "outputs": [
    {
     "output_type": "stream",
     "name": "stdout",
     "text": [
      "Prueba                                                     AUC Train    AUC Validation\n-------------------------------------------------------  -----------  ----------------\nSin reemplazar nulos                                           0.623             0.63\nReemplazando nulos por mediana (RNM)                           0.727             0.73\nRNM + Eliminando columna BloodPressure                         0.728             0.731\nRNM + Eliminando columna SkinThickness                         0.732             0.731\nRNM + Eliminando columnas BloodPressure y SkinThickness        0.73              0.736\n"
     ]
    }
   ],
   "source": [
    "from tabulate import tabulate\n",
    "\n",
    "table=[[\"Sin reemplazar nulos\",round(np.array(train_aucs_nr).mean(),3),round(np.array(val_aucs_nr).mean(),3)],\n",
    "      [\"Reemplazando nulos por mediana (RNM)\",round(np.array(train_aucs).mean(),3),round(np.array(val_aucs).mean(),3)],\n",
    "      [\"RNM + Eliminando columna BloodPressure\",np.array(removeColsAucTrain).round(3)[0],np.array(removeColsAuc).round(3)[0]],\n",
    "      [\"RNM + Eliminando columna SkinThickness\",np.array(removeColsAucTrain).round(3)[1],np.array(removeColsAuc).round(3)[1]],\n",
    "      [\"RNM + Eliminando columnas BloodPressure y SkinThickness\",round(np.array(train_aucs_rac).mean(),3),round(np.array(val_aucs_rac).mean(),3)]\n",
    "       ]\n",
    "\n",
    "print(tabulate(table, headers=[\"Prueba\",\"AUC Train\", \"AUC Validation\"]))"
   ]
  },
  {
   "source": [
    "A partir de la tabla anterior se observa que la mejor métrica de validación se obtuvo reemplazando los valores nulos por la mediana de la columna correspondiente y eliminando las columnas de BloodPressure y SkinThickness. Por esta razón, seleccionamos dicho modelo para continuar el análisis.\n",
    "\n",
    "Por otra parte, dado que las métricas de Train y Validation son similares, no se aprecia Overfitting."
   ],
   "cell_type": "markdown",
   "metadata": {}
  },
  {
   "source": [
    "## Test"
   ],
   "cell_type": "markdown",
   "metadata": {}
  },
  {
   "cell_type": "code",
   "execution_count": 60,
   "metadata": {},
   "outputs": [],
   "source": [
    "## Test\n",
    "aucs_test = []\n",
    "for model in models_rac:\n",
    "    ##Reemplazo nulos.\n",
    "    test_dataframe = test_data.copy()\n",
    "    columnsWithNulls = ['Glucose','BloodPressure','SkinThickness','Insulin','BMI']\n",
    "    test_dataframe[columnsWithNulls] = test_dataframe[columnsWithNulls].replace(np.NaN,model[0])\n",
    "    ##Se eliminan columnas.\n",
    "    test_dataframe = test_dataframe.drop(removeColsImproved, axis=1)\n",
    "\n",
    "    true_test_outcomes = []\n",
    "    pred_test_outcomes = []\n",
    "\n",
    "    for index, row in test_dataframe.iterrows():\n",
    "        true_outcome = row[\"Outcome\"]\n",
    "        pred_outcome = pred(row.to_list()[:-1], model[1], model[2])\n",
    "        true_test_outcomes.append(true_outcome)\n",
    "        pred_test_outcomes.append(pred_outcome)\n",
    "\n",
    "    fpr_test, tpr_test, thresholds_test = metrics.roc_curve(true_test_outcomes, pred_test_outcomes)\n",
    "    auc_test_i = metrics.auc(fpr_test, tpr_test)\n",
    "    aucs_test.append(auc_test_i)\n"
   ]
  },
  {
   "source": [
    "## Resultado"
   ],
   "cell_type": "markdown",
   "metadata": {}
  },
  {
   "cell_type": "code",
   "execution_count": 61,
   "metadata": {},
   "outputs": [
    {
     "output_type": "stream",
     "name": "stdout",
     "text": [
      "AUC Test: 0.693\n"
     ]
    }
   ],
   "source": [
    "print('AUC Test: ' + str(round(np.array(aucs_test).mean(),3)))"
   ]
  },
  {
   "source": [
    "Finalmente, se obtuvo una métrica en Test de 0.693. Si se compara esto con lo resultante de Train y Validation (0.73 y 0.736 respectivamente) se aprecia que su valor no se redujo significativamente. De esta manera se considera que el modelo funciona correctamente y no hay evidencia de Overfitting."
   ],
   "cell_type": "markdown",
   "metadata": {}
  }
 ]
}